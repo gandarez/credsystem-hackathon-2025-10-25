{
 "cells": [
  {
   "cell_type": "markdown",
   "id": "bac4928e",
   "metadata": {},
   "source": [
    "# Modelo de Classificação de Intenções com CNN e LSTM\n",
    "\n",
    "Este notebook implementa uma rede neural para classificar a intenção de um usuário (`intent`) em uma categoria de serviço (`service_name`) com base em uma frase de entrada.\n",
    "\n",
    "A arquitetura do modelo combina:\n",
    "- **Camadas Convolucionais (Conv1D)**: Para extrair características locais e n-gramas do texto.\n",
    "- **Camadas Recorrentes (LSTM)**: Para entender o contexto e as dependências sequenciais nas características extraídas."
   ]
  },
  {
   "cell_type": "markdown",
   "id": "8633097e",
   "metadata": {},
   "source": [
    "### 1. Importação das Bibliotecas"
   ]
  },
  {
   "cell_type": "code",
   "execution_count": 1,
   "id": "5fc3e285",
   "metadata": {},
   "outputs": [],
   "source": [
    "import pandas as pd\n",
    "import numpy as np\n",
    "import tensorflow as tf\n",
    "from tensorflow.keras.models import Sequential\n",
    "from tensorflow.keras.layers import Embedding, Conv1D, MaxPooling1D, LSTM, Dense, Dropout\n",
    "from tensorflow.keras.preprocessing.text import Tokenizer\n",
    "from tensorflow.keras.preprocessing.sequence import pad_sequences\n",
    "from sklearn.model_selection import train_test_split\n",
    "from sklearn.preprocessing import LabelEncoder"
   ]
  },
  {
   "cell_type": "markdown",
   "id": "7446fd4e",
   "metadata": {},
   "source": [
    "### 2. Carregamento e Pré-processamento dos Dados\n",
    "\n",
    "Carregamos o arquivo CSV, definimos o delimitador e separamos as colunas de entrada (`intent`) e de alvo (`service_name`)."
   ]
  },
  {
   "cell_type": "code",
   "execution_count": 2,
   "id": "ca32ebb6",
   "metadata": {},
   "outputs": [
    {
     "ename": "FileNotFoundError",
     "evalue": "[Errno 2] No such file or directory: 'training/intents_pre_loaded.csv'",
     "output_type": "error",
     "traceback": [
      "\u001b[31m---------------------------------------------------------------------------\u001b[39m",
      "\u001b[31mFileNotFoundError\u001b[39m                         Traceback (most recent call last)",
      "\u001b[36mCell\u001b[39m\u001b[36m \u001b[39m\u001b[32mIn[2]\u001b[39m\u001b[32m, line 5\u001b[39m\n\u001b[32m      1\u001b[39m \u001b[38;5;66;03m# O caminho para o CSV é relativo à localização deste notebook\u001b[39;00m\n\u001b[32m      2\u001b[39m \u001b[38;5;66;03m# csv_path = '../../../assets/intents_pre_loaded.csv'\u001b[39;00m\n\u001b[32m      3\u001b[39m csv_path = \u001b[33m'\u001b[39m\u001b[33mtraining/intents_pre_loaded.csv\u001b[39m\u001b[33m'\u001b[39m\n\u001b[32m----> \u001b[39m\u001b[32m5\u001b[39m df = \u001b[43mpd\u001b[49m\u001b[43m.\u001b[49m\u001b[43mread_csv\u001b[49m\u001b[43m(\u001b[49m\u001b[43mcsv_path\u001b[49m\u001b[43m,\u001b[49m\u001b[43m \u001b[49m\u001b[43mdelimiter\u001b[49m\u001b[43m=\u001b[49m\u001b[33;43m'\u001b[39;49m\u001b[33;43m;\u001b[39;49m\u001b[33;43m'\u001b[39;49m\u001b[43m)\u001b[49m\n\u001b[32m      7\u001b[39m \u001b[38;5;66;03m# Remover linhas com valores ausentes\u001b[39;00m\n\u001b[32m      8\u001b[39m df.dropna(subset=[\u001b[33m'\u001b[39m\u001b[33mintent\u001b[39m\u001b[33m'\u001b[39m, \u001b[33m'\u001b[39m\u001b[33mservice_name\u001b[39m\u001b[33m'\u001b[39m], inplace=\u001b[38;5;28;01mTrue\u001b[39;00m)\n",
      "\u001b[36mFile \u001b[39m\u001b[32md:\\fcf\\code\\credsystem-hackathon-2025-10-25\\participantes\\bandidos-do-byte\\venv\\Lib\\site-packages\\pandas\\io\\parsers\\readers.py:1026\u001b[39m, in \u001b[36mread_csv\u001b[39m\u001b[34m(filepath_or_buffer, sep, delimiter, header, names, index_col, usecols, dtype, engine, converters, true_values, false_values, skipinitialspace, skiprows, skipfooter, nrows, na_values, keep_default_na, na_filter, verbose, skip_blank_lines, parse_dates, infer_datetime_format, keep_date_col, date_parser, date_format, dayfirst, cache_dates, iterator, chunksize, compression, thousands, decimal, lineterminator, quotechar, quoting, doublequote, escapechar, comment, encoding, encoding_errors, dialect, on_bad_lines, delim_whitespace, low_memory, memory_map, float_precision, storage_options, dtype_backend)\u001b[39m\n\u001b[32m   1013\u001b[39m kwds_defaults = _refine_defaults_read(\n\u001b[32m   1014\u001b[39m     dialect,\n\u001b[32m   1015\u001b[39m     delimiter,\n\u001b[32m   (...)\u001b[39m\u001b[32m   1022\u001b[39m     dtype_backend=dtype_backend,\n\u001b[32m   1023\u001b[39m )\n\u001b[32m   1024\u001b[39m kwds.update(kwds_defaults)\n\u001b[32m-> \u001b[39m\u001b[32m1026\u001b[39m \u001b[38;5;28;01mreturn\u001b[39;00m \u001b[43m_read\u001b[49m\u001b[43m(\u001b[49m\u001b[43mfilepath_or_buffer\u001b[49m\u001b[43m,\u001b[49m\u001b[43m \u001b[49m\u001b[43mkwds\u001b[49m\u001b[43m)\u001b[49m\n",
      "\u001b[36mFile \u001b[39m\u001b[32md:\\fcf\\code\\credsystem-hackathon-2025-10-25\\participantes\\bandidos-do-byte\\venv\\Lib\\site-packages\\pandas\\io\\parsers\\readers.py:620\u001b[39m, in \u001b[36m_read\u001b[39m\u001b[34m(filepath_or_buffer, kwds)\u001b[39m\n\u001b[32m    617\u001b[39m _validate_names(kwds.get(\u001b[33m\"\u001b[39m\u001b[33mnames\u001b[39m\u001b[33m\"\u001b[39m, \u001b[38;5;28;01mNone\u001b[39;00m))\n\u001b[32m    619\u001b[39m \u001b[38;5;66;03m# Create the parser.\u001b[39;00m\n\u001b[32m--> \u001b[39m\u001b[32m620\u001b[39m parser = \u001b[43mTextFileReader\u001b[49m\u001b[43m(\u001b[49m\u001b[43mfilepath_or_buffer\u001b[49m\u001b[43m,\u001b[49m\u001b[43m \u001b[49m\u001b[43m*\u001b[49m\u001b[43m*\u001b[49m\u001b[43mkwds\u001b[49m\u001b[43m)\u001b[49m\n\u001b[32m    622\u001b[39m \u001b[38;5;28;01mif\u001b[39;00m chunksize \u001b[38;5;129;01mor\u001b[39;00m iterator:\n\u001b[32m    623\u001b[39m     \u001b[38;5;28;01mreturn\u001b[39;00m parser\n",
      "\u001b[36mFile \u001b[39m\u001b[32md:\\fcf\\code\\credsystem-hackathon-2025-10-25\\participantes\\bandidos-do-byte\\venv\\Lib\\site-packages\\pandas\\io\\parsers\\readers.py:1620\u001b[39m, in \u001b[36mTextFileReader.__init__\u001b[39m\u001b[34m(self, f, engine, **kwds)\u001b[39m\n\u001b[32m   1617\u001b[39m     \u001b[38;5;28mself\u001b[39m.options[\u001b[33m\"\u001b[39m\u001b[33mhas_index_names\u001b[39m\u001b[33m\"\u001b[39m] = kwds[\u001b[33m\"\u001b[39m\u001b[33mhas_index_names\u001b[39m\u001b[33m\"\u001b[39m]\n\u001b[32m   1619\u001b[39m \u001b[38;5;28mself\u001b[39m.handles: IOHandles | \u001b[38;5;28;01mNone\u001b[39;00m = \u001b[38;5;28;01mNone\u001b[39;00m\n\u001b[32m-> \u001b[39m\u001b[32m1620\u001b[39m \u001b[38;5;28mself\u001b[39m._engine = \u001b[38;5;28;43mself\u001b[39;49m\u001b[43m.\u001b[49m\u001b[43m_make_engine\u001b[49m\u001b[43m(\u001b[49m\u001b[43mf\u001b[49m\u001b[43m,\u001b[49m\u001b[43m \u001b[49m\u001b[38;5;28;43mself\u001b[39;49m\u001b[43m.\u001b[49m\u001b[43mengine\u001b[49m\u001b[43m)\u001b[49m\n",
      "\u001b[36mFile \u001b[39m\u001b[32md:\\fcf\\code\\credsystem-hackathon-2025-10-25\\participantes\\bandidos-do-byte\\venv\\Lib\\site-packages\\pandas\\io\\parsers\\readers.py:1880\u001b[39m, in \u001b[36mTextFileReader._make_engine\u001b[39m\u001b[34m(self, f, engine)\u001b[39m\n\u001b[32m   1878\u001b[39m     \u001b[38;5;28;01mif\u001b[39;00m \u001b[33m\"\u001b[39m\u001b[33mb\u001b[39m\u001b[33m\"\u001b[39m \u001b[38;5;129;01mnot\u001b[39;00m \u001b[38;5;129;01min\u001b[39;00m mode:\n\u001b[32m   1879\u001b[39m         mode += \u001b[33m\"\u001b[39m\u001b[33mb\u001b[39m\u001b[33m\"\u001b[39m\n\u001b[32m-> \u001b[39m\u001b[32m1880\u001b[39m \u001b[38;5;28mself\u001b[39m.handles = \u001b[43mget_handle\u001b[49m\u001b[43m(\u001b[49m\n\u001b[32m   1881\u001b[39m \u001b[43m    \u001b[49m\u001b[43mf\u001b[49m\u001b[43m,\u001b[49m\n\u001b[32m   1882\u001b[39m \u001b[43m    \u001b[49m\u001b[43mmode\u001b[49m\u001b[43m,\u001b[49m\n\u001b[32m   1883\u001b[39m \u001b[43m    \u001b[49m\u001b[43mencoding\u001b[49m\u001b[43m=\u001b[49m\u001b[38;5;28;43mself\u001b[39;49m\u001b[43m.\u001b[49m\u001b[43moptions\u001b[49m\u001b[43m.\u001b[49m\u001b[43mget\u001b[49m\u001b[43m(\u001b[49m\u001b[33;43m\"\u001b[39;49m\u001b[33;43mencoding\u001b[39;49m\u001b[33;43m\"\u001b[39;49m\u001b[43m,\u001b[49m\u001b[43m \u001b[49m\u001b[38;5;28;43;01mNone\u001b[39;49;00m\u001b[43m)\u001b[49m\u001b[43m,\u001b[49m\n\u001b[32m   1884\u001b[39m \u001b[43m    \u001b[49m\u001b[43mcompression\u001b[49m\u001b[43m=\u001b[49m\u001b[38;5;28;43mself\u001b[39;49m\u001b[43m.\u001b[49m\u001b[43moptions\u001b[49m\u001b[43m.\u001b[49m\u001b[43mget\u001b[49m\u001b[43m(\u001b[49m\u001b[33;43m\"\u001b[39;49m\u001b[33;43mcompression\u001b[39;49m\u001b[33;43m\"\u001b[39;49m\u001b[43m,\u001b[49m\u001b[43m \u001b[49m\u001b[38;5;28;43;01mNone\u001b[39;49;00m\u001b[43m)\u001b[49m\u001b[43m,\u001b[49m\n\u001b[32m   1885\u001b[39m \u001b[43m    \u001b[49m\u001b[43mmemory_map\u001b[49m\u001b[43m=\u001b[49m\u001b[38;5;28;43mself\u001b[39;49m\u001b[43m.\u001b[49m\u001b[43moptions\u001b[49m\u001b[43m.\u001b[49m\u001b[43mget\u001b[49m\u001b[43m(\u001b[49m\u001b[33;43m\"\u001b[39;49m\u001b[33;43mmemory_map\u001b[39;49m\u001b[33;43m\"\u001b[39;49m\u001b[43m,\u001b[49m\u001b[43m \u001b[49m\u001b[38;5;28;43;01mFalse\u001b[39;49;00m\u001b[43m)\u001b[49m\u001b[43m,\u001b[49m\n\u001b[32m   1886\u001b[39m \u001b[43m    \u001b[49m\u001b[43mis_text\u001b[49m\u001b[43m=\u001b[49m\u001b[43mis_text\u001b[49m\u001b[43m,\u001b[49m\n\u001b[32m   1887\u001b[39m \u001b[43m    \u001b[49m\u001b[43merrors\u001b[49m\u001b[43m=\u001b[49m\u001b[38;5;28;43mself\u001b[39;49m\u001b[43m.\u001b[49m\u001b[43moptions\u001b[49m\u001b[43m.\u001b[49m\u001b[43mget\u001b[49m\u001b[43m(\u001b[49m\u001b[33;43m\"\u001b[39;49m\u001b[33;43mencoding_errors\u001b[39;49m\u001b[33;43m\"\u001b[39;49m\u001b[43m,\u001b[49m\u001b[43m \u001b[49m\u001b[33;43m\"\u001b[39;49m\u001b[33;43mstrict\u001b[39;49m\u001b[33;43m\"\u001b[39;49m\u001b[43m)\u001b[49m\u001b[43m,\u001b[49m\n\u001b[32m   1888\u001b[39m \u001b[43m    \u001b[49m\u001b[43mstorage_options\u001b[49m\u001b[43m=\u001b[49m\u001b[38;5;28;43mself\u001b[39;49m\u001b[43m.\u001b[49m\u001b[43moptions\u001b[49m\u001b[43m.\u001b[49m\u001b[43mget\u001b[49m\u001b[43m(\u001b[49m\u001b[33;43m\"\u001b[39;49m\u001b[33;43mstorage_options\u001b[39;49m\u001b[33;43m\"\u001b[39;49m\u001b[43m,\u001b[49m\u001b[43m \u001b[49m\u001b[38;5;28;43;01mNone\u001b[39;49;00m\u001b[43m)\u001b[49m\u001b[43m,\u001b[49m\n\u001b[32m   1889\u001b[39m \u001b[43m\u001b[49m\u001b[43m)\u001b[49m\n\u001b[32m   1890\u001b[39m \u001b[38;5;28;01massert\u001b[39;00m \u001b[38;5;28mself\u001b[39m.handles \u001b[38;5;129;01mis\u001b[39;00m \u001b[38;5;129;01mnot\u001b[39;00m \u001b[38;5;28;01mNone\u001b[39;00m\n\u001b[32m   1891\u001b[39m f = \u001b[38;5;28mself\u001b[39m.handles.handle\n",
      "\u001b[36mFile \u001b[39m\u001b[32md:\\fcf\\code\\credsystem-hackathon-2025-10-25\\participantes\\bandidos-do-byte\\venv\\Lib\\site-packages\\pandas\\io\\common.py:873\u001b[39m, in \u001b[36mget_handle\u001b[39m\u001b[34m(path_or_buf, mode, encoding, compression, memory_map, is_text, errors, storage_options)\u001b[39m\n\u001b[32m    868\u001b[39m \u001b[38;5;28;01melif\u001b[39;00m \u001b[38;5;28misinstance\u001b[39m(handle, \u001b[38;5;28mstr\u001b[39m):\n\u001b[32m    869\u001b[39m     \u001b[38;5;66;03m# Check whether the filename is to be opened in binary mode.\u001b[39;00m\n\u001b[32m    870\u001b[39m     \u001b[38;5;66;03m# Binary mode does not support 'encoding' and 'newline'.\u001b[39;00m\n\u001b[32m    871\u001b[39m     \u001b[38;5;28;01mif\u001b[39;00m ioargs.encoding \u001b[38;5;129;01mand\u001b[39;00m \u001b[33m\"\u001b[39m\u001b[33mb\u001b[39m\u001b[33m\"\u001b[39m \u001b[38;5;129;01mnot\u001b[39;00m \u001b[38;5;129;01min\u001b[39;00m ioargs.mode:\n\u001b[32m    872\u001b[39m         \u001b[38;5;66;03m# Encoding\u001b[39;00m\n\u001b[32m--> \u001b[39m\u001b[32m873\u001b[39m         handle = \u001b[38;5;28;43mopen\u001b[39;49m\u001b[43m(\u001b[49m\n\u001b[32m    874\u001b[39m \u001b[43m            \u001b[49m\u001b[43mhandle\u001b[49m\u001b[43m,\u001b[49m\n\u001b[32m    875\u001b[39m \u001b[43m            \u001b[49m\u001b[43mioargs\u001b[49m\u001b[43m.\u001b[49m\u001b[43mmode\u001b[49m\u001b[43m,\u001b[49m\n\u001b[32m    876\u001b[39m \u001b[43m            \u001b[49m\u001b[43mencoding\u001b[49m\u001b[43m=\u001b[49m\u001b[43mioargs\u001b[49m\u001b[43m.\u001b[49m\u001b[43mencoding\u001b[49m\u001b[43m,\u001b[49m\n\u001b[32m    877\u001b[39m \u001b[43m            \u001b[49m\u001b[43merrors\u001b[49m\u001b[43m=\u001b[49m\u001b[43merrors\u001b[49m\u001b[43m,\u001b[49m\n\u001b[32m    878\u001b[39m \u001b[43m            \u001b[49m\u001b[43mnewline\u001b[49m\u001b[43m=\u001b[49m\u001b[33;43m\"\u001b[39;49m\u001b[33;43m\"\u001b[39;49m\u001b[43m,\u001b[49m\n\u001b[32m    879\u001b[39m \u001b[43m        \u001b[49m\u001b[43m)\u001b[49m\n\u001b[32m    880\u001b[39m     \u001b[38;5;28;01melse\u001b[39;00m:\n\u001b[32m    881\u001b[39m         \u001b[38;5;66;03m# Binary mode\u001b[39;00m\n\u001b[32m    882\u001b[39m         handle = \u001b[38;5;28mopen\u001b[39m(handle, ioargs.mode)\n",
      "\u001b[31mFileNotFoundError\u001b[39m: [Errno 2] No such file or directory: 'training/intents_pre_loaded.csv'"
     ]
    }
   ],
   "source": [
    "# O caminho para o CSV é relativo à localização deste notebook\n",
    "# csv_path = '../../../assets/intents_pre_loaded.csv'\n",
    "csv_path = 'training/intents_pre_loaded.csv'\n",
    "\n",
    "df = pd.read_csv(csv_path, delimiter=';')\n",
    "\n",
    "# Remover linhas com valores ausentes\n",
    "df.dropna(subset=['intent', 'service_name'], inplace=True)\n",
    "\n",
    "# Definir textos (X) e rótulos (y)\n",
    "intents = df['intent'].values\n",
    "service_names = df['service_name'].values\n",
    "\n",
    "df.head()"
   ]
  },
  {
   "cell_type": "markdown",
   "id": "482b0bed",
   "metadata": {},
   "source": [
    "### 3. Codificação dos Rótulos (Labels)\n",
    "\n",
    "As redes neurais trabalham com números. Usamos o `LabelEncoder` para converter os nomes dos serviços (texto) em números inteiros."
   ]
  },
  {
   "cell_type": "code",
   "execution_count": 3,
   "id": "7e4c020d",
   "metadata": {},
   "outputs": [
    {
     "name": "stdout",
     "output_type": "stream",
     "text": [
      "Número de classes de serviço: 16\n"
     ]
    }
   ],
   "source": [
    "label_encoder = LabelEncoder()\n",
    "integer_labels = label_encoder.fit_transform(service_names)\n",
    "num_classes = len(np.unique(integer_labels))\n",
    "\n",
    "print(f\"Número de classes de serviço: {num_classes}\")"
   ]
  },
  {
   "cell_type": "markdown",
   "id": "b1622ba3",
   "metadata": {},
   "source": [
    "### 4. Tokenização e Padding\n",
    "\n",
    "O texto é convertido em sequências de números (`Tokenização`) e, em seguida, todas as sequências são padronizadas para ter o mesmo comprimento (`Padding`)."
   ]
  },
  {
   "cell_type": "code",
   "execution_count": 4,
   "id": "27b7fdca",
   "metadata": {},
   "outputs": [],
   "source": [
    "# Configurações\n",
    "vocab_size = 1000  # Tamanho máximo do vocabulário\n",
    "max_length = 20    # Comprimento máximo das sequências\n",
    "embedding_dim = 64 # Dimensão dos vetores de embedding\n",
    "\n",
    "# Criar e treinar o tokenizer\n",
    "tokenizer = Tokenizer(num_words=vocab_size, oov_token=\"<unk>\")\n",
    "tokenizer.fit_on_texts(intents)\n",
    "\n",
    "# Converter textos para sequências de inteiros\n",
    "sequences = tokenizer.texts_to_sequences(intents)\n",
    "\n",
    "# Padronizar o comprimento das sequências\n",
    "padded_sequences = pad_sequences(sequences, maxlen=max_length, padding='post', truncating='post')"
   ]
  },
  {
   "cell_type": "markdown",
   "id": "9d1d6ee2",
   "metadata": {},
   "source": [
    "### 5. Divisão em Dados de Treino e Teste"
   ]
  },
  {
   "cell_type": "code",
   "execution_count": 5,
   "id": "8c0af513",
   "metadata": {},
   "outputs": [],
   "source": [
    "X_train, X_test, y_train, y_test = train_test_split(\n",
    "    padded_sequences,\n",
    "    integer_labels,\n",
    "    test_size=0.2,\n",
    "    random_state=42\n",
    ")"
   ]
  },
  {
   "cell_type": "markdown",
   "id": "fa7491dd",
   "metadata": {},
   "source": [
    "### 6. Construção do Modelo (CNN + LSTM)"
   ]
  },
  {
   "cell_type": "code",
   "execution_count": 6,
   "id": "69dabc61",
   "metadata": {},
   "outputs": [
    {
     "name": "stderr",
     "output_type": "stream",
     "text": [
      "d:\\fcf\\code\\credsystem-hackathon-2025-10-25\\venv\\Lib\\site-packages\\keras\\src\\layers\\core\\embedding.py:97: UserWarning: Argument `input_length` is deprecated. Just remove it.\n",
      "  warnings.warn(\n"
     ]
    },
    {
     "data": {
      "text/html": [
       "<pre style=\"white-space:pre;overflow-x:auto;line-height:normal;font-family:Menlo,'DejaVu Sans Mono',consolas,'Courier New',monospace\"><span style=\"font-weight: bold\">Model: \"sequential\"</span>\n",
       "</pre>\n"
      ],
      "text/plain": [
       "\u001b[1mModel: \"sequential\"\u001b[0m\n"
      ]
     },
     "metadata": {},
     "output_type": "display_data"
    },
    {
     "data": {
      "text/html": [
       "<pre style=\"white-space:pre;overflow-x:auto;line-height:normal;font-family:Menlo,'DejaVu Sans Mono',consolas,'Courier New',monospace\">┏━━━━━━━━━━━━━━━━━━━━━━━━━━━━━━━━━┳━━━━━━━━━━━━━━━━━━━━━━━━┳━━━━━━━━━━━━━━━┓\n",
       "┃<span style=\"font-weight: bold\"> Layer (type)                    </span>┃<span style=\"font-weight: bold\"> Output Shape           </span>┃<span style=\"font-weight: bold\">       Param # </span>┃\n",
       "┡━━━━━━━━━━━━━━━━━━━━━━━━━━━━━━━━━╇━━━━━━━━━━━━━━━━━━━━━━━━╇━━━━━━━━━━━━━━━┩\n",
       "│ embedding (<span style=\"color: #0087ff; text-decoration-color: #0087ff\">Embedding</span>)           │ ?                      │   <span style=\"color: #00af00; text-decoration-color: #00af00\">0</span> (unbuilt) │\n",
       "├─────────────────────────────────┼────────────────────────┼───────────────┤\n",
       "│ conv1d (<span style=\"color: #0087ff; text-decoration-color: #0087ff\">Conv1D</span>)                 │ ?                      │   <span style=\"color: #00af00; text-decoration-color: #00af00\">0</span> (unbuilt) │\n",
       "├─────────────────────────────────┼────────────────────────┼───────────────┤\n",
       "│ max_pooling1d (<span style=\"color: #0087ff; text-decoration-color: #0087ff\">MaxPooling1D</span>)    │ ?                      │             <span style=\"color: #00af00; text-decoration-color: #00af00\">0</span> │\n",
       "├─────────────────────────────────┼────────────────────────┼───────────────┤\n",
       "│ dropout (<span style=\"color: #0087ff; text-decoration-color: #0087ff\">Dropout</span>)               │ ?                      │             <span style=\"color: #00af00; text-decoration-color: #00af00\">0</span> │\n",
       "├─────────────────────────────────┼────────────────────────┼───────────────┤\n",
       "│ lstm (<span style=\"color: #0087ff; text-decoration-color: #0087ff\">LSTM</span>)                     │ ?                      │   <span style=\"color: #00af00; text-decoration-color: #00af00\">0</span> (unbuilt) │\n",
       "├─────────────────────────────────┼────────────────────────┼───────────────┤\n",
       "│ dropout_1 (<span style=\"color: #0087ff; text-decoration-color: #0087ff\">Dropout</span>)             │ ?                      │             <span style=\"color: #00af00; text-decoration-color: #00af00\">0</span> │\n",
       "├─────────────────────────────────┼────────────────────────┼───────────────┤\n",
       "│ dense (<span style=\"color: #0087ff; text-decoration-color: #0087ff\">Dense</span>)                   │ ?                      │   <span style=\"color: #00af00; text-decoration-color: #00af00\">0</span> (unbuilt) │\n",
       "└─────────────────────────────────┴────────────────────────┴───────────────┘\n",
       "</pre>\n"
      ],
      "text/plain": [
       "┏━━━━━━━━━━━━━━━━━━━━━━━━━━━━━━━━━┳━━━━━━━━━━━━━━━━━━━━━━━━┳━━━━━━━━━━━━━━━┓\n",
       "┃\u001b[1m \u001b[0m\u001b[1mLayer (type)                   \u001b[0m\u001b[1m \u001b[0m┃\u001b[1m \u001b[0m\u001b[1mOutput Shape          \u001b[0m\u001b[1m \u001b[0m┃\u001b[1m \u001b[0m\u001b[1m      Param #\u001b[0m\u001b[1m \u001b[0m┃\n",
       "┡━━━━━━━━━━━━━━━━━━━━━━━━━━━━━━━━━╇━━━━━━━━━━━━━━━━━━━━━━━━╇━━━━━━━━━━━━━━━┩\n",
       "│ embedding (\u001b[38;5;33mEmbedding\u001b[0m)           │ ?                      │   \u001b[38;5;34m0\u001b[0m (unbuilt) │\n",
       "├─────────────────────────────────┼────────────────────────┼───────────────┤\n",
       "│ conv1d (\u001b[38;5;33mConv1D\u001b[0m)                 │ ?                      │   \u001b[38;5;34m0\u001b[0m (unbuilt) │\n",
       "├─────────────────────────────────┼────────────────────────┼───────────────┤\n",
       "│ max_pooling1d (\u001b[38;5;33mMaxPooling1D\u001b[0m)    │ ?                      │             \u001b[38;5;34m0\u001b[0m │\n",
       "├─────────────────────────────────┼────────────────────────┼───────────────┤\n",
       "│ dropout (\u001b[38;5;33mDropout\u001b[0m)               │ ?                      │             \u001b[38;5;34m0\u001b[0m │\n",
       "├─────────────────────────────────┼────────────────────────┼───────────────┤\n",
       "│ lstm (\u001b[38;5;33mLSTM\u001b[0m)                     │ ?                      │   \u001b[38;5;34m0\u001b[0m (unbuilt) │\n",
       "├─────────────────────────────────┼────────────────────────┼───────────────┤\n",
       "│ dropout_1 (\u001b[38;5;33mDropout\u001b[0m)             │ ?                      │             \u001b[38;5;34m0\u001b[0m │\n",
       "├─────────────────────────────────┼────────────────────────┼───────────────┤\n",
       "│ dense (\u001b[38;5;33mDense\u001b[0m)                   │ ?                      │   \u001b[38;5;34m0\u001b[0m (unbuilt) │\n",
       "└─────────────────────────────────┴────────────────────────┴───────────────┘\n"
      ]
     },
     "metadata": {},
     "output_type": "display_data"
    },
    {
     "data": {
      "text/html": [
       "<pre style=\"white-space:pre;overflow-x:auto;line-height:normal;font-family:Menlo,'DejaVu Sans Mono',consolas,'Courier New',monospace\"><span style=\"font-weight: bold\"> Total params: </span><span style=\"color: #00af00; text-decoration-color: #00af00\">0</span> (0.00 B)\n",
       "</pre>\n"
      ],
      "text/plain": [
       "\u001b[1m Total params: \u001b[0m\u001b[38;5;34m0\u001b[0m (0.00 B)\n"
      ]
     },
     "metadata": {},
     "output_type": "display_data"
    },
    {
     "data": {
      "text/html": [
       "<pre style=\"white-space:pre;overflow-x:auto;line-height:normal;font-family:Menlo,'DejaVu Sans Mono',consolas,'Courier New',monospace\"><span style=\"font-weight: bold\"> Trainable params: </span><span style=\"color: #00af00; text-decoration-color: #00af00\">0</span> (0.00 B)\n",
       "</pre>\n"
      ],
      "text/plain": [
       "\u001b[1m Trainable params: \u001b[0m\u001b[38;5;34m0\u001b[0m (0.00 B)\n"
      ]
     },
     "metadata": {},
     "output_type": "display_data"
    },
    {
     "data": {
      "text/html": [
       "<pre style=\"white-space:pre;overflow-x:auto;line-height:normal;font-family:Menlo,'DejaVu Sans Mono',consolas,'Courier New',monospace\"><span style=\"font-weight: bold\"> Non-trainable params: </span><span style=\"color: #00af00; text-decoration-color: #00af00\">0</span> (0.00 B)\n",
       "</pre>\n"
      ],
      "text/plain": [
       "\u001b[1m Non-trainable params: \u001b[0m\u001b[38;5;34m0\u001b[0m (0.00 B)\n"
      ]
     },
     "metadata": {},
     "output_type": "display_data"
    }
   ],
   "source": [
    "model = Sequential([\n",
    "    # Camada de Embedding: Transforma índices de palavras em vetores densos\n",
    "    Embedding(input_dim=vocab_size, output_dim=embedding_dim, input_length=max_length),\n",
    "\n",
    "    # Camada Convolucional (CNN): Extrai características locais\n",
    "    Conv1D(filters=128, kernel_size=5, activation='relu'),\n",
    "    MaxPooling1D(pool_size=2),\n",
    "    Dropout(0.5),\n",
    "\n",
    "    # Camada Recorrente (LSTM): Aprende padrões sequenciais\n",
    "    LSTM(64),\n",
    "    Dropout(0.5),\n",
    "\n",
    "    # Camada de Saída: Classifica nas categorias de serviço\n",
    "    Dense(num_classes, activation='softmax')\n",
    "])\n",
    "\n",
    "# Compilar o modelo\n",
    "model.compile(\n",
    "    optimizer='adam',\n",
    "    loss='sparse_categorical_crossentropy', # Usar para rótulos inteiros\n",
    "    metrics=['accuracy']\n",
    ")\n",
    "\n",
    "model.summary()"
   ]
  },
  {
   "cell_type": "markdown",
   "id": "e6a1cf9e",
   "metadata": {},
   "source": [
    "### 7. Treinamento do Modelo"
   ]
  },
  {
   "cell_type": "code",
   "execution_count": 7,
   "id": "1cb189aa",
   "metadata": {},
   "outputs": [
    {
     "name": "stdout",
     "output_type": "stream",
     "text": [
      "Epoch 1/30\n",
      "5/5 - 2s - 459ms/step - accuracy: 0.0135 - loss: 2.7803 - val_accuracy: 0.0526 - val_loss: 2.7766\n",
      "Epoch 2/30\n",
      "5/5 - 2s - 459ms/step - accuracy: 0.0135 - loss: 2.7803 - val_accuracy: 0.0526 - val_loss: 2.7766\n",
      "Epoch 2/30\n",
      "5/5 - 0s - 23ms/step - accuracy: 0.0135 - loss: 2.7739 - val_accuracy: 0.0526 - val_loss: 2.7794\n",
      "Epoch 3/30\n",
      "5/5 - 0s - 23ms/step - accuracy: 0.0135 - loss: 2.7739 - val_accuracy: 0.0526 - val_loss: 2.7794\n",
      "Epoch 3/30\n",
      "5/5 - 0s - 22ms/step - accuracy: 0.0811 - loss: 2.7743 - val_accuracy: 0.0526 - val_loss: 2.7819\n",
      "Epoch 4/30\n",
      "5/5 - 0s - 22ms/step - accuracy: 0.0811 - loss: 2.7743 - val_accuracy: 0.0526 - val_loss: 2.7819\n",
      "Epoch 4/30\n",
      "5/5 - 0s - 21ms/step - accuracy: 0.0135 - loss: 2.7705 - val_accuracy: 0.0526 - val_loss: 2.7831\n",
      "Epoch 5/30\n",
      "5/5 - 0s - 21ms/step - accuracy: 0.0135 - loss: 2.7705 - val_accuracy: 0.0526 - val_loss: 2.7831\n",
      "Epoch 5/30\n",
      "5/5 - 0s - 19ms/step - accuracy: 0.0811 - loss: 2.7751 - val_accuracy: 0.0526 - val_loss: 2.7853\n",
      "Epoch 6/30\n",
      "5/5 - 0s - 19ms/step - accuracy: 0.0811 - loss: 2.7751 - val_accuracy: 0.0526 - val_loss: 2.7853\n",
      "Epoch 6/30\n",
      "5/5 - 0s - 23ms/step - accuracy: 0.0676 - loss: 2.7678 - val_accuracy: 0.0526 - val_loss: 2.7874\n",
      "Epoch 7/30\n",
      "5/5 - 0s - 23ms/step - accuracy: 0.0676 - loss: 2.7678 - val_accuracy: 0.0526 - val_loss: 2.7874\n",
      "Epoch 7/30\n",
      "5/5 - 0s - 30ms/step - accuracy: 0.0405 - loss: 2.7666 - val_accuracy: 0.0526 - val_loss: 2.7901\n",
      "Epoch 8/30\n",
      "5/5 - 0s - 30ms/step - accuracy: 0.0405 - loss: 2.7666 - val_accuracy: 0.0526 - val_loss: 2.7901\n",
      "Epoch 8/30\n",
      "5/5 - 0s - 22ms/step - accuracy: 0.0676 - loss: 2.7671 - val_accuracy: 0.0526 - val_loss: 2.7928\n",
      "Epoch 9/30\n",
      "5/5 - 0s - 22ms/step - accuracy: 0.0676 - loss: 2.7671 - val_accuracy: 0.0526 - val_loss: 2.7928\n",
      "Epoch 9/30\n",
      "5/5 - 0s - 22ms/step - accuracy: 0.0405 - loss: 2.7700 - val_accuracy: 0.0000e+00 - val_loss: 2.7938\n",
      "Epoch 10/30\n",
      "5/5 - 0s - 22ms/step - accuracy: 0.0405 - loss: 2.7700 - val_accuracy: 0.0000e+00 - val_loss: 2.7938\n",
      "Epoch 10/30\n",
      "5/5 - 0s - 18ms/step - accuracy: 0.0270 - loss: 2.7653 - val_accuracy: 0.0000e+00 - val_loss: 2.7946\n",
      "Epoch 11/30\n",
      "5/5 - 0s - 18ms/step - accuracy: 0.0270 - loss: 2.7653 - val_accuracy: 0.0000e+00 - val_loss: 2.7946\n",
      "Epoch 11/30\n",
      "5/5 - 0s - 20ms/step - accuracy: 0.0811 - loss: 2.7556 - val_accuracy: 0.0000e+00 - val_loss: 2.7955\n",
      "Epoch 12/30\n",
      "5/5 - 0s - 20ms/step - accuracy: 0.0811 - loss: 2.7556 - val_accuracy: 0.0000e+00 - val_loss: 2.7955\n",
      "Epoch 12/30\n",
      "5/5 - 0s - 20ms/step - accuracy: 0.0541 - loss: 2.7512 - val_accuracy: 0.0000e+00 - val_loss: 2.7992\n",
      "Epoch 13/30\n",
      "5/5 - 0s - 20ms/step - accuracy: 0.0541 - loss: 2.7512 - val_accuracy: 0.0000e+00 - val_loss: 2.7992\n",
      "Epoch 13/30\n",
      "5/5 - 0s - 16ms/step - accuracy: 0.0946 - loss: 2.7599 - val_accuracy: 0.0000e+00 - val_loss: 2.8022\n",
      "Epoch 14/30\n",
      "5/5 - 0s - 16ms/step - accuracy: 0.0946 - loss: 2.7599 - val_accuracy: 0.0000e+00 - val_loss: 2.8022\n",
      "Epoch 14/30\n",
      "5/5 - 0s - 20ms/step - accuracy: 0.0946 - loss: 2.7554 - val_accuracy: 0.0000e+00 - val_loss: 2.8022\n",
      "Epoch 15/30\n",
      "5/5 - 0s - 20ms/step - accuracy: 0.0946 - loss: 2.7554 - val_accuracy: 0.0000e+00 - val_loss: 2.8022\n",
      "Epoch 15/30\n",
      "5/5 - 0s - 17ms/step - accuracy: 0.1081 - loss: 2.7472 - val_accuracy: 0.0000e+00 - val_loss: 2.8006\n",
      "Epoch 16/30\n",
      "5/5 - 0s - 17ms/step - accuracy: 0.1081 - loss: 2.7472 - val_accuracy: 0.0000e+00 - val_loss: 2.8006\n",
      "Epoch 16/30\n",
      "5/5 - 0s - 17ms/step - accuracy: 0.1351 - loss: 2.7396 - val_accuracy: 0.0000e+00 - val_loss: 2.8019\n",
      "Epoch 17/30\n",
      "5/5 - 0s - 17ms/step - accuracy: 0.1351 - loss: 2.7396 - val_accuracy: 0.0000e+00 - val_loss: 2.8019\n",
      "Epoch 17/30\n",
      "5/5 - 0s - 20ms/step - accuracy: 0.1486 - loss: 2.7115 - val_accuracy: 0.0526 - val_loss: 2.8023\n",
      "Epoch 18/30\n",
      "5/5 - 0s - 20ms/step - accuracy: 0.1486 - loss: 2.7115 - val_accuracy: 0.0526 - val_loss: 2.8023\n",
      "Epoch 18/30\n",
      "5/5 - 0s - 18ms/step - accuracy: 0.1486 - loss: 2.6986 - val_accuracy: 0.0526 - val_loss: 2.8189\n",
      "Epoch 19/30\n",
      "5/5 - 0s - 18ms/step - accuracy: 0.1486 - loss: 2.6986 - val_accuracy: 0.0526 - val_loss: 2.8189\n",
      "Epoch 19/30\n",
      "5/5 - 0s - 20ms/step - accuracy: 0.1892 - loss: 2.6095 - val_accuracy: 0.0526 - val_loss: 2.8317\n",
      "Epoch 20/30\n",
      "5/5 - 0s - 20ms/step - accuracy: 0.1892 - loss: 2.6095 - val_accuracy: 0.0526 - val_loss: 2.8317\n",
      "Epoch 20/30\n",
      "5/5 - 0s - 20ms/step - accuracy: 0.2568 - loss: 2.4839 - val_accuracy: 0.1579 - val_loss: 2.8296\n",
      "Epoch 21/30\n",
      "5/5 - 0s - 20ms/step - accuracy: 0.2568 - loss: 2.4839 - val_accuracy: 0.1579 - val_loss: 2.8296\n",
      "Epoch 21/30\n",
      "5/5 - 0s - 16ms/step - accuracy: 0.2432 - loss: 2.3742 - val_accuracy: 0.1053 - val_loss: 2.9497\n",
      "Epoch 22/30\n",
      "5/5 - 0s - 16ms/step - accuracy: 0.2432 - loss: 2.3742 - val_accuracy: 0.1053 - val_loss: 2.9497\n",
      "Epoch 22/30\n",
      "5/5 - 0s - 16ms/step - accuracy: 0.2973 - loss: 2.2172 - val_accuracy: 0.1053 - val_loss: 2.6705\n",
      "Epoch 23/30\n",
      "5/5 - 0s - 16ms/step - accuracy: 0.2973 - loss: 2.2172 - val_accuracy: 0.1053 - val_loss: 2.6705\n",
      "Epoch 23/30\n",
      "5/5 - 0s - 19ms/step - accuracy: 0.3784 - loss: 2.0576 - val_accuracy: 0.2105 - val_loss: 2.6028\n",
      "Epoch 24/30\n",
      "5/5 - 0s - 19ms/step - accuracy: 0.3784 - loss: 2.0576 - val_accuracy: 0.2105 - val_loss: 2.6028\n",
      "Epoch 24/30\n",
      "5/5 - 0s - 17ms/step - accuracy: 0.3378 - loss: 1.9073 - val_accuracy: 0.2105 - val_loss: 2.6005\n",
      "Epoch 25/30\n",
      "5/5 - 0s - 17ms/step - accuracy: 0.3378 - loss: 1.9073 - val_accuracy: 0.2105 - val_loss: 2.6005\n",
      "Epoch 25/30\n",
      "5/5 - 0s - 17ms/step - accuracy: 0.4189 - loss: 1.7416 - val_accuracy: 0.1579 - val_loss: 2.5946\n",
      "Epoch 26/30\n",
      "5/5 - 0s - 17ms/step - accuracy: 0.4189 - loss: 1.7416 - val_accuracy: 0.1579 - val_loss: 2.5946\n",
      "Epoch 26/30\n",
      "5/5 - 0s - 18ms/step - accuracy: 0.4595 - loss: 1.6367 - val_accuracy: 0.2105 - val_loss: 2.6188\n",
      "Epoch 27/30\n",
      "5/5 - 0s - 18ms/step - accuracy: 0.4595 - loss: 1.6367 - val_accuracy: 0.2105 - val_loss: 2.6188\n",
      "Epoch 27/30\n",
      "5/5 - 0s - 16ms/step - accuracy: 0.4595 - loss: 1.4707 - val_accuracy: 0.2632 - val_loss: 2.6735\n",
      "Epoch 28/30\n",
      "5/5 - 0s - 16ms/step - accuracy: 0.4595 - loss: 1.4707 - val_accuracy: 0.2632 - val_loss: 2.6735\n",
      "Epoch 28/30\n",
      "5/5 - 0s - 17ms/step - accuracy: 0.5000 - loss: 1.3758 - val_accuracy: 0.2632 - val_loss: 2.2633\n",
      "Epoch 29/30\n",
      "5/5 - 0s - 17ms/step - accuracy: 0.5000 - loss: 1.3758 - val_accuracy: 0.2632 - val_loss: 2.2633\n",
      "Epoch 29/30\n",
      "5/5 - 0s - 16ms/step - accuracy: 0.5270 - loss: 1.3631 - val_accuracy: 0.2105 - val_loss: 2.4846\n",
      "Epoch 30/30\n",
      "5/5 - 0s - 16ms/step - accuracy: 0.5270 - loss: 1.3631 - val_accuracy: 0.2105 - val_loss: 2.4846\n",
      "Epoch 30/30\n",
      "5/5 - 0s - 17ms/step - accuracy: 0.6486 - loss: 1.1534 - val_accuracy: 0.2105 - val_loss: 2.5495\n",
      "5/5 - 0s - 17ms/step - accuracy: 0.6486 - loss: 1.1534 - val_accuracy: 0.2105 - val_loss: 2.5495\n"
     ]
    }
   ],
   "source": [
    "history = model.fit(\n",
    "    X_train,\n",
    "    y_train,\n",
    "    epochs=30,\n",
    "    validation_data=(X_test, y_test),\n",
    "    batch_size=16,\n",
    "    verbose=2\n",
    ")"
   ]
  },
  {
   "cell_type": "markdown",
   "id": "8846be5c",
   "metadata": {},
   "source": [
    "### 8. Avaliação do Modelo"
   ]
  },
  {
   "cell_type": "code",
   "execution_count": 8,
   "id": "dc2770dc",
   "metadata": {},
   "outputs": [
    {
     "name": "stdout",
     "output_type": "stream",
     "text": [
      "\n",
      "Acurácia no conjunto de teste: 0.2105\n"
     ]
    }
   ],
   "source": [
    "loss, accuracy = model.evaluate(X_test, y_test, verbose=0)\n",
    "print(f\"\\nAcurácia no conjunto de teste: {accuracy:.4f}\")"
   ]
  },
  {
   "cell_type": "markdown",
   "id": "778d1085",
   "metadata": {},
   "source": [
    "### 9. Função para Predição\n",
    "\n",
    "Criamos uma função auxiliar para encapsular todo o processo de pré-processamento e predição para uma nova frase."
   ]
  },
  {
   "cell_type": "code",
   "execution_count": 9,
   "id": "af2e0c4b",
   "metadata": {},
   "outputs": [],
   "source": [
    "def predict_service(text):\n",
    "    # Pré-processar o texto de entrada\n",
    "    sequence = tokenizer.texts_to_sequences([text])\n",
    "    padded_sequence = pad_sequences(sequence, maxlen=max_length, padding='post', truncating='post')\n",
    "\n",
    "    # Fazer a predição\n",
    "    prediction = model.predict(padded_sequence)\n",
    "    predicted_class_index = np.argmax(prediction)\n",
    "\n",
    "    # Decodificar o resultado para o nome do serviço\n",
    "    predicted_service_name = label_encoder.inverse_transform([predicted_class_index])\n",
    "\n",
    "    return predicted_service_name[0]"
   ]
  },
  {
   "cell_type": "markdown",
   "id": "b5a56431",
   "metadata": {},
   "source": [
    "### 10. Teste do Modelo com Novas Frases"
   ]
  },
  {
   "cell_type": "code",
   "execution_count": 10,
   "id": "b2522cac",
   "metadata": {},
   "outputs": [
    {
     "name": "stdout",
     "output_type": "stream",
     "text": [
      "\n",
      "--- Testando o modelo com novas frases ---\n",
      "\u001b[1m1/1\u001b[0m \u001b[32m━━━━━━━━━━━━━━━━━━━━\u001b[0m\u001b[37m\u001b[0m \u001b[1m0s\u001b[0m 142ms/step\n",
      "\u001b[1m1/1\u001b[0m \u001b[32m━━━━━━━━━━━━━━━━━━━━\u001b[0m\u001b[37m\u001b[0m \u001b[1m0s\u001b[0m 142ms/step\n",
      "Frase: 'esqueci a senha do meu cartao'Frase: 'esqueci a senha do meu cartao'\n",
      "Serviço Previsto: 'Esqueceu senha / Troca de senha'\n",
      "\n",
      "\u001b[1m1/1\u001b[0m \u001b[32m━━━━━━━━━━━━━━━━━━━━\u001b[0m\u001b[37m\u001b[0m \u001b[1m0s\u001b[0m 21ms/step\n",
      "\n",
      "Serviço Previsto: 'Esqueceu senha / Troca de senha'\n",
      "\n",
      "\u001b[1m1/1\u001b[0m \u001b[32m━━━━━━━━━━━━━━━━━━━━\u001b[0m\u001b[37m\u001b[0m \u001b[1m0s\u001b[0m 21ms/step\n",
      "Frase: 'onde está meu novo cartão?'\n",
      "Serviço Previsto: 'Status de Entrega do Cartão'\n",
      "\n",
      "\u001b[1m1/1\u001b[0m \u001b[32m━━━━━━━━━━━━━━━━━━━━\u001b[0m\u001b[37m\u001b[0m \u001b[1m0s\u001b[0m 28ms/step\n",
      "Frase: 'onde está meu novo cartão?'\n",
      "Serviço Previsto: 'Status de Entrega do Cartão'\n",
      "\n",
      "\u001b[1m1/1\u001b[0m \u001b[32m━━━━━━━━━━━━━━━━━━━━\u001b[0m\u001b[37m\u001b[0m \u001b[1m0s\u001b[0m 28ms/step\n",
      "Frase: 'quero pagar a fatura'\n",
      "Serviço Previsto: 'Segunda via de Fatura'\n",
      "\n",
      "Frase: 'quero pagar a fatura'\n",
      "Serviço Previsto: 'Segunda via de Fatura'\n",
      "\n"
     ]
    }
   ],
   "source": [
    "# Testar com novas frases\n",
    "print(\"\\n--- Testando o modelo com novas frases ---\")\n",
    "test_phrase_1 = \"esqueci a senha do meu cartao\"\n",
    "predicted_service_1 = predict_service(test_phrase_1)\n",
    "print(f\"Frase: '{test_phrase_1}'\")\n",
    "print(f\"Serviço Previsto: '{predicted_service_1}'\\n\")\n",
    "\n",
    "test_phrase_2 = \"onde está meu novo cartão?\"\n",
    "predicted_service_2 = predict_service(test_phrase_2)\n",
    "print(f\"Frase: '{test_phrase_2}'\")\n",
    "print(f\"Serviço Previsto: '{predicted_service_2}'\\n\")\n",
    "\n",
    "test_phrase_3 = \"quero pagar a fatura\"\n",
    "predicted_service_3 = predict_service(test_phrase_3)\n",
    "print(f\"Frase: '{test_phrase_3}'\")\n",
    "print(f\"Serviço Previsto: '{predicted_service_3}'\\n\")"
   ]
  },
  {
   "cell_type": "code",
   "execution_count": 11,
   "id": "6728daa1",
   "metadata": {},
   "outputs": [
    {
     "name": "stderr",
     "output_type": "stream",
     "text": [
      "WARNING:absl:You are saving your model as an HDF5 file via `model.save()` or `keras.saving.save_model(model)`. This file format is considered legacy. We recommend using instead the native Keras format, e.g. `model.save('my_model.keras')` or `keras.saving.save_model(model, 'my_model.keras')`. \n"
     ]
    }
   ],
   "source": [
    "# Save the model\n",
    "model.save('service_intent_model.h5')"
   ]
  },
  {
   "cell_type": "markdown",
   "id": "9cc9a57b",
   "metadata": {},
   "source": [
    "### 11. Geração de Dados Sintéticos (Opcional)\n",
    "\n",
    "Para aumentar a robustez do modelo, podemos gerar dados sintéticos. A célula abaixo cria um novo arquivo CSV com 100 exemplos de frases para cada categoria de serviço, totalizando 1600 novas amostras.\n",
    "\n",
    "**Atenção**: Execute esta célula apenas uma vez para criar o arquivo."
   ]
  },
  {
   "cell_type": "code",
   "execution_count": null,
   "id": "ec93aed5",
   "metadata": {},
   "outputs": [],
   "source": [
    "import pandas as pd\n",
    "import random\n",
    "import os\n",
    "\n",
    "# Dicionário com os serviços e templates de frases\n",
    "services_data = {\n",
    "    \"Consulta Limite / Vencimento do cartão / Melhor dia de compra\": [\n",
    "        \"qual o limite do meu cartão?\", \"quanto ainda tenho de limite?\", \"meu limite disponível\",\n",
    "        \"quando vence minha fatura?\", \"qual a data de vencimento?\", \"vencimento da fatura\",\n",
    "        \"melhor dia para comprar\", \"qual o melhor dia de compra?\", \"dia bom para usar o cartão\"\n",
    "    ],\n",
    "    \"Segunda via de boleto de acordo\": [\n",
    "        \"preciso da segunda via do meu acordo\", \"gerar boleto da negociação\", \"não recebi o boleto do acordo\",\n",
    "        \"enviar novamente o boleto do meu parcelamento\", \"código de barras do acordo\", \"pagar meu acordo\"\n",
    "    ],\n",
    "    \"Segunda via de Fatura\": [\n",
    "        \"quero a segunda via da minha fatura\", \"me envia o boleto da fatura, por favor\", \"não achei minha fatura\",\n",
    "        \"preciso do código de barras para pagar a fatura\", \"gerar fatura em PDF\", \"fatura detalhada\"\n",
    "    ],\n",
    "    \"Status de Entrega do Cartão\": [\n",
    "        \"gostaria de saber onde está meu cartão\", \"qual o status da entrega do meu cartão?\", \"meu cartão já foi enviado?\",\n",
    "        \"rastrear entrega do cartão\", \"previsão de chegada do cartão\", \"ainda não recebi meu cartão\"\n",
    "    ],\n",
    "    \"Status de cartão\": [\n",
    "        \"meu cartão foi bloqueado?\", \"qual o status do meu cartão?\", \"o cartão está ativo para uso?\",\n",
    "        \"não consigo usar meu cartão\", \"minha compra foi recusada\", \"verificar status do cartão\"\n",
    "    ],\n",
    "    \"Solicitação de aumento de limite\": [\n",
    "        \"gostaria de pedir um aumento de limite\", \"como faço para ter mais limite?\", \"solicitar mais crédito\",\n",
    "        \"aumentar o limite do meu cartão de crédito\", \"meu limite é baixo, posso aumentar?\", \"quero um limite maior\"\n",
    "    ],\n",
    "    \"Cancelamento de cartão\": [\n",
    "        \"quero cancelar meu cartão\", \"como faço para cancelar o cartão?\", \"não quero mais ter este cartão\",\n",
    "        \"encerrar minha conta do cartão\", \"cancelar o cartão de crédito\", \"desativar meu cartão permanentemente\"\n",
    "    ],\n",
    "    \"Telefones de seguradoras\": [\n",
    "        \"qual o telefone do seguro do cartão?\", \"preciso do contato da seguradora\", \"como falo com o seguro?\",\n",
    "        \"número para acionar o seguro\", \"cancelar seguro do cartão\", \"informações sobre a apólice de seguro\"\n",
    "    ],\n",
    "    \"Desbloqueio de Cartão\": [\n",
    "        \"recebi meu cartão e quero desbloquear\", \"como desbloquear o cartão novo?\", \"desbloquear meu cartão agora\",\n",
    "        \"ativar o cartão para compras\", \"meu cartão chegou, como ativo?\", \"quero usar meu cartão novo\"\n",
    "    ],\n",
    "    \"Esqueceu senha / Troca de senha\": [\n",
    "        \"esqueci a senha do meu cartão, e agora?\", \"preciso cadastrar uma nova senha\", \"como altero a senha do cartão?\",\n",
    "        \"não lembro minha senha\", \"quero trocar a senha\", \"ajuda para recuperar a senha\"\n",
    "    ],\n",
    "    \"Perda e roubo\": [\n",
    "        \"perdi meu cartão, preciso bloquear\", \"fui roubado, levem meu cartão\", \"bloquear cartão por perda\",\n",
    "        \"meu cartão foi furtado\", \"comunicar roubo de cartão\", \"extraviei meu cartão, o que fazer?\"\n",
    "    ],\n",
    "    \"Consulta do Saldo\": [\n",
    "        \"qual o saldo da minha conta?\", \"gostaria de ver meu saldo\", \"quanto dinheiro eu tenho?\",\n",
    "        \"consultar o extrato da conta\", \"verificar meu saldo atual\", \"meu saldo por favor\"\n",
    "    ],\n",
    "    \"Pagamento de contas\": [\n",
    "        \"quero pagar uma conta de consumo\", \"pagar um boleto com a câmera\", \"agendar pagamento de conta\",\n",
    "        \"realizar pagamento de boleto\", \"como pagar contas pelo app?\", \"pagar fatura de água\"\n",
    "    ],\n",
    "    \"Reclamações\": [\n",
    "        \"gostaria de fazer uma reclamação\", \"quero registrar uma queixa sobre o atendimento\", \"não estou satisfeito com o serviço\",\n",
    "        \"abrir um protocolo de reclamação\", \"reclamar sobre uma cobrança indevida\", \"tenho uma queixa\"\n",
    "    ],\n",
    "    \"Atendimento humano\": [\n",
    "        \"preciso falar com um atendente\", \"quero ser transferido para uma pessoa\", \"falar com um especialista\",\n",
    "        \"me ajuda a falar com um humano\", \"não quero falar com robô\", \"atendimento com uma pessoa, por favor\"\n",
    "    ],\n",
    "    \"Token de proposta\": [\n",
    "        \"qual o token da minha proposta?\", \"não recebi o código do meu cartão\", \"informar token para finalizar a proposta\",\n",
    "        \"cadê o número do token?\", \"preciso do token para continuar\", \"validar proposta com token\"\n",
    "    ]\n",
    "}\n",
    "\n",
    "# Gerar os dados\n",
    "generated_data = []\n",
    "for service, templates in services_data.items():\n",
    "    for _ in range(100):\n",
    "        intent = random.choice(templates)\n",
    "        # Adicionar pequenas variações\n",
    "        if random.random() > 0.7:\n",
    "            intent = intent.replace(\"?\", \"\").strip()\n",
    "        if random.random() > 0.8:\n",
    "            intent = \"por favor, \" + intent\n",
    "        if random.random() > 0.9:\n",
    "            intent = intent.upper()\n",
    "            \n",
    "        generated_data.append({\"intent\": intent, \"service_name\": service})\n",
    "\n",
    "# Criar DataFrame\n",
    "df_generated = pd.DataFrame(generated_data)\n",
    "\n",
    "# Caminho para salvar o arquivo\n",
    "output_path = '../../../assets/intents_generated.csv'\n",
    "\n",
    "# Criar o diretório se não existir\n",
    "os.makedirs(os.path.dirname(output_path), exist_ok=True)\n",
    "\n",
    "# Salvar em CSV\n",
    "df_generated.to_csv(output_path, sep=';', index=False, encoding='utf-8-sig')\n",
    "\n",
    "print(f\"Arquivo '{output_path}' criado com {len(df_generated)} linhas.\")\n",
    "df_generated.head()"
   ]
  }
 ],
 "metadata": {
  "kernelspec": {
   "display_name": "venv",
   "language": "python",
   "name": "python3"
  },
  "language_info": {
   "codemirror_mode": {
    "name": "ipython",
    "version": 3
   },
   "file_extension": ".py",
   "mimetype": "text/x-python",
   "name": "python",
   "nbconvert_exporter": "python",
   "pygments_lexer": "ipython3",
   "version": "3.11.14"
  }
 },
 "nbformat": 4,
 "nbformat_minor": 5
}
