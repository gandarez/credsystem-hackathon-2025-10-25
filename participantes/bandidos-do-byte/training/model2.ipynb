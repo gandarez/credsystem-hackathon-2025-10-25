{
 "cells": [
  {
   "cell_type": "markdown",
   "id": "bac4928e",
   "metadata": {},
   "source": [
    "# Modelo de Classificação de Intenções com CNN e LSTM\n",
    "\n",
    "Este notebook implementa uma rede neural para classificar a intenção de um usuário (`intent`) em uma categoria de serviço (`service_name`) com base em uma frase de entrada.\n",
    "\n",
    "A arquitetura do modelo combina:\n",
    "- **Camadas Convolucionais (Conv1D)**: Para extrair características locais e n-gramas do texto.\n",
    "- **Camadas Recorrentes (LSTM)**: Para entender o contexto e as dependências sequenciais nas características extraídas."
   ]
  },
  {
   "cell_type": "markdown",
   "id": "8633097e",
   "metadata": {},
   "source": [
    "### 1. Importação das Bibliotecas"
   ]
  },
  {
   "cell_type": "code",
   "execution_count": 4,
   "id": "5fc3e285",
   "metadata": {},
   "outputs": [],
   "source": [
    "import pandas as pd\n",
    "import numpy as np\n",
    "import tensorflow as tf\n",
    "from tensorflow.keras.models import Sequential\n",
    "from tensorflow.keras.layers import Embedding, Conv1D, MaxPooling1D, LSTM, Dense, Dropout\n",
    "from tensorflow.keras.preprocessing.text import Tokenizer\n",
    "from tensorflow.keras.preprocessing.sequence import pad_sequences\n",
    "from sklearn.model_selection import train_test_split\n",
    "from sklearn.preprocessing import LabelEncoder"
   ]
  },
  {
   "cell_type": "markdown",
   "id": "7446fd4e",
   "metadata": {},
   "source": [
    "### 2. Carregamento e Pré-processamento dos Dados\n",
    "\n",
    "Carregamos o arquivo CSV, definimos o delimitador e separamos as colunas de entrada (`intent`) e de alvo (`service_name`)."
   ]
  },
  {
   "cell_type": "code",
   "execution_count": 5,
   "id": "ca32ebb6",
   "metadata": {},
   "outputs": [
    {
     "name": "stdout",
     "output_type": "stream",
     "text": [
      "Dados de Treinamento Carregados:\n"
     ]
    },
    {
     "data": {
      "text/html": [
       "<div>\n",
       "<style scoped>\n",
       "    .dataframe tbody tr th:only-of-type {\n",
       "        vertical-align: middle;\n",
       "    }\n",
       "\n",
       "    .dataframe tbody tr th {\n",
       "        vertical-align: top;\n",
       "    }\n",
       "\n",
       "    .dataframe thead th {\n",
       "        text-align: right;\n",
       "    }\n",
       "</style>\n",
       "<table border=\"1\" class=\"dataframe\">\n",
       "  <thead>\n",
       "    <tr style=\"text-align: right;\">\n",
       "      <th></th>\n",
       "      <th>service_id</th>\n",
       "      <th>service_name</th>\n",
       "      <th>intent</th>\n",
       "    </tr>\n",
       "  </thead>\n",
       "  <tbody>\n",
       "    <tr>\n",
       "      <th>0</th>\n",
       "      <td>1</td>\n",
       "      <td>Consulta Limite / Vencimento do cartão / Melho...</td>\n",
       "      <td>qual meu limite disponível</td>\n",
       "    </tr>\n",
       "    <tr>\n",
       "      <th>1</th>\n",
       "      <td>1</td>\n",
       "      <td>Consulta Limite / Vencimento do cartão / Melho...</td>\n",
       "      <td>consultar limite do cartão</td>\n",
       "    </tr>\n",
       "    <tr>\n",
       "      <th>2</th>\n",
       "      <td>1</td>\n",
       "      <td>Consulta Limite / Vencimento do cartão / Melho...</td>\n",
       "      <td>quanto posso gastar no cartão</td>\n",
       "    </tr>\n",
       "    <tr>\n",
       "      <th>3</th>\n",
       "      <td>1</td>\n",
       "      <td>Consulta Limite / Vencimento do cartão / Melho...</td>\n",
       "      <td>ver saldo disponível cartão</td>\n",
       "    </tr>\n",
       "    <tr>\n",
       "      <th>4</th>\n",
       "      <td>1</td>\n",
       "      <td>Consulta Limite / Vencimento do cartão / Melho...</td>\n",
       "      <td>data de vencimento da fatura</td>\n",
       "    </tr>\n",
       "  </tbody>\n",
       "</table>\n",
       "</div>"
      ],
      "text/plain": [
       "   service_id                                       service_name  \\\n",
       "0           1  Consulta Limite / Vencimento do cartão / Melho...   \n",
       "1           1  Consulta Limite / Vencimento do cartão / Melho...   \n",
       "2           1  Consulta Limite / Vencimento do cartão / Melho...   \n",
       "3           1  Consulta Limite / Vencimento do cartão / Melho...   \n",
       "4           1  Consulta Limite / Vencimento do cartão / Melho...   \n",
       "\n",
       "                          intent  \n",
       "0     qual meu limite disponível  \n",
       "1     consultar limite do cartão  \n",
       "2  quanto posso gastar no cartão  \n",
       "3    ver saldo disponível cartão  \n",
       "4   data de vencimento da fatura  "
      ]
     },
     "execution_count": 5,
     "metadata": {},
     "output_type": "execute_result"
    }
   ],
   "source": [
    "# O caminho para o CSV de TREINAMENTO é relativo à localização deste notebook\n",
    "# csv_path_train = '../../../assets/intents_generated.csv'\n",
    "csv_path_train = 'intents_generated.csv'\n",
    "\n",
    "df_train = pd.read_csv(csv_path_train, delimiter=';')\n",
    "\n",
    "# Remover linhas com valores ausentes\n",
    "df_train.dropna(subset=['intent', 'service_name'], inplace=True)\n",
    "\n",
    "# Definir textos (X) e rótulos (y) para o treino\n",
    "intents_train = df_train['intent'].values\n",
    "service_names_train = df_train['service_name'].values\n",
    "\n",
    "print(\"Dados de Treinamento Carregados:\")\n",
    "df_train.head()"
   ]
  },
  {
   "cell_type": "code",
   "execution_count": 6,
   "id": "78801e75",
   "metadata": {},
   "outputs": [
    {
     "name": "stdout",
     "output_type": "stream",
     "text": [
      "\n",
      "Dados de Avaliação Carregados:\n"
     ]
    },
    {
     "data": {
      "text/html": [
       "<div>\n",
       "<style scoped>\n",
       "    .dataframe tbody tr th:only-of-type {\n",
       "        vertical-align: middle;\n",
       "    }\n",
       "\n",
       "    .dataframe tbody tr th {\n",
       "        vertical-align: top;\n",
       "    }\n",
       "\n",
       "    .dataframe thead th {\n",
       "        text-align: right;\n",
       "    }\n",
       "</style>\n",
       "<table border=\"1\" class=\"dataframe\">\n",
       "  <thead>\n",
       "    <tr style=\"text-align: right;\">\n",
       "      <th></th>\n",
       "      <th>service_id</th>\n",
       "      <th>service_name</th>\n",
       "      <th>intent</th>\n",
       "    </tr>\n",
       "  </thead>\n",
       "  <tbody>\n",
       "    <tr>\n",
       "      <th>0</th>\n",
       "      <td>1</td>\n",
       "      <td>Consulta Limite / Vencimento do cartão / Melho...</td>\n",
       "      <td>Quanto tem disponível para usar</td>\n",
       "    </tr>\n",
       "    <tr>\n",
       "      <th>1</th>\n",
       "      <td>1</td>\n",
       "      <td>Consulta Limite / Vencimento do cartão / Melho...</td>\n",
       "      <td>quando fecha minha fatura</td>\n",
       "    </tr>\n",
       "    <tr>\n",
       "      <th>2</th>\n",
       "      <td>1</td>\n",
       "      <td>Consulta Limite / Vencimento do cartão / Melho...</td>\n",
       "      <td>Quando vence meu cartão</td>\n",
       "    </tr>\n",
       "    <tr>\n",
       "      <th>3</th>\n",
       "      <td>1</td>\n",
       "      <td>Consulta Limite / Vencimento do cartão / Melho...</td>\n",
       "      <td>quando posso comprar</td>\n",
       "    </tr>\n",
       "    <tr>\n",
       "      <th>4</th>\n",
       "      <td>1</td>\n",
       "      <td>Consulta Limite / Vencimento do cartão / Melho...</td>\n",
       "      <td>vencimento da fatura</td>\n",
       "    </tr>\n",
       "  </tbody>\n",
       "</table>\n",
       "</div>"
      ],
      "text/plain": [
       "   service_id                                       service_name  \\\n",
       "0           1  Consulta Limite / Vencimento do cartão / Melho...   \n",
       "1           1  Consulta Limite / Vencimento do cartão / Melho...   \n",
       "2           1  Consulta Limite / Vencimento do cartão / Melho...   \n",
       "3           1  Consulta Limite / Vencimento do cartão / Melho...   \n",
       "4           1  Consulta Limite / Vencimento do cartão / Melho...   \n",
       "\n",
       "                            intent  \n",
       "0  Quanto tem disponível para usar  \n",
       "1        quando fecha minha fatura  \n",
       "2          Quando vence meu cartão  \n",
       "3             quando posso comprar  \n",
       "4             vencimento da fatura  "
      ]
     },
     "execution_count": 6,
     "metadata": {},
     "output_type": "execute_result"
    }
   ],
   "source": [
    "# O caminho para o CSV de AVALIAÇÃO é relativo à localização deste notebook\n",
    "csv_path_test = 'intents_pre_loaded.csv'\n",
    "\n",
    "df_test = pd.read_csv(csv_path_test, delimiter=';')\n",
    "\n",
    "# Remover linhas com valores ausentes\n",
    "df_test.dropna(subset=['intent', 'service_name'], inplace=True)\n",
    "\n",
    "# Definir textos (X) e rótulos (y) para o teste\n",
    "intents_test = df_test['intent'].values\n",
    "service_names_test = df_test['service_name'].values\n",
    "\n",
    "print(\"\\nDados de Avaliação Carregados:\")\n",
    "df_test.head()"
   ]
  },
  {
   "cell_type": "markdown",
   "id": "482b0bed",
   "metadata": {},
   "source": [
    "### 3. Codificação dos Rótulos (Labels)\n",
    "\n",
    "As redes neurais trabalham com números. Usamos o `LabelEncoder` para converter os nomes dos serviços (texto) em números inteiros."
   ]
  },
  {
   "cell_type": "code",
   "execution_count": 7,
   "id": "7e4c020d",
   "metadata": {},
   "outputs": [
    {
     "name": "stdout",
     "output_type": "stream",
     "text": [
      "Número de classes de serviço: 16\n",
      "Exemplo de rótulo de treino codificado: [2 2 2 2 2]\n",
      "Exemplo de rótulo de teste codificado: [2 2 2 2 2]\n"
     ]
    }
   ],
   "source": [
    "# Combinar todos os rótulos para garantir que o LabelEncoder conheça todas as classes\n",
    "all_service_names = np.concatenate([service_names_train, service_names_test])\n",
    "\n",
    "label_encoder = LabelEncoder()\n",
    "label_encoder.fit(all_service_names)\n",
    "\n",
    "# Codificar os rótulos de treino e de teste\n",
    "y_train_encoded = label_encoder.transform(service_names_train)\n",
    "y_test_encoded = label_encoder.transform(service_names_test)\n",
    "\n",
    "num_classes = len(label_encoder.classes_)\n",
    "\n",
    "print(f\"Número de classes de serviço: {num_classes}\")\n",
    "print(f\"Exemplo de rótulo de treino codificado: {y_train_encoded[:5]}\")\n",
    "print(f\"Exemplo de rótulo de teste codificado: {y_test_encoded[:5]}\")"
   ]
  },
  {
   "cell_type": "markdown",
   "id": "b1622ba3",
   "metadata": {},
   "source": [
    "### 4. Tokenização e Padding\n",
    "\n",
    "O texto é convertido em sequências de números (`Tokenização`) e, em seguida, todas as sequências são padronizadas para ter o mesmo comprimento (`Padding`)."
   ]
  },
  {
   "cell_type": "code",
   "execution_count": 8,
   "id": "27b7fdca",
   "metadata": {},
   "outputs": [
    {
     "name": "stdout",
     "output_type": "stream",
     "text": [
      "Tamanho do vocabulário: 343\n"
     ]
    }
   ],
   "source": [
    "# Configurações\n",
    "# vocab_size = 1000  # Tamanho máximo do vocabulário\n",
    "max_length = 20    # Comprimento máximo das sequências\n",
    "embedding_dim = 64 # Dimensão dos vetores de embedding\n",
    "\n",
    "# Criar e treinar o tokenizer com os dados de TREINO\n",
    "# Removido o limite de vocab_size para usar todas as palavras\n",
    "tokenizer = Tokenizer(oov_token=\"<unk>\")\n",
    "tokenizer.fit_on_texts(intents_train)\n",
    "\n",
    "# Adicionar 1 ao tamanho do vocabulário para o token <unk>\n",
    "vocab_size = len(tokenizer.word_index) + 1\n",
    "\n",
    "# Converter textos de treino para sequências de inteiros\n",
    "X_train_sequences = tokenizer.texts_to_sequences(intents_train)\n",
    "X_train_padded = pad_sequences(X_train_sequences, maxlen=max_length, padding='post', truncating='post')\n",
    "\n",
    "# Converter textos de teste para sequências de inteiros\n",
    "X_test_sequences = tokenizer.texts_to_sequences(intents_test)\n",
    "X_test_padded = pad_sequences(X_test_sequences, maxlen=max_length, padding='post', truncating='post')\n",
    "\n",
    "print(f\"Tamanho do vocabulário: {vocab_size}\")"
   ]
  },
  {
   "cell_type": "markdown",
   "id": "fa7491dd",
   "metadata": {},
   "source": [
    "### 6. Construção do Modelo (CNN + LSTM)"
   ]
  },
  {
   "cell_type": "code",
   "execution_count": 9,
   "id": "69dabc61",
   "metadata": {},
   "outputs": [
    {
     "name": "stderr",
     "output_type": "stream",
     "text": [
      "d:\\fcf\\code\\credsystem-hackathon-2025-10-25\\participantes\\bandidos-do-byte\\venv\\Lib\\site-packages\\keras\\src\\layers\\core\\embedding.py:97: UserWarning: Argument `input_length` is deprecated. Just remove it.\n",
      "  warnings.warn(\n"
     ]
    },
    {
     "data": {
      "text/html": [
       "<pre style=\"white-space:pre;overflow-x:auto;line-height:normal;font-family:Menlo,'DejaVu Sans Mono',consolas,'Courier New',monospace\"><span style=\"font-weight: bold\">Model: \"sequential\"</span>\n",
       "</pre>\n"
      ],
      "text/plain": [
       "\u001b[1mModel: \"sequential\"\u001b[0m\n"
      ]
     },
     "metadata": {},
     "output_type": "display_data"
    },
    {
     "data": {
      "text/html": [
       "<pre style=\"white-space:pre;overflow-x:auto;line-height:normal;font-family:Menlo,'DejaVu Sans Mono',consolas,'Courier New',monospace\">┏━━━━━━━━━━━━━━━━━━━━━━━━━━━━━━━━━┳━━━━━━━━━━━━━━━━━━━━━━━━┳━━━━━━━━━━━━━━━┓\n",
       "┃<span style=\"font-weight: bold\"> Layer (type)                    </span>┃<span style=\"font-weight: bold\"> Output Shape           </span>┃<span style=\"font-weight: bold\">       Param # </span>┃\n",
       "┡━━━━━━━━━━━━━━━━━━━━━━━━━━━━━━━━━╇━━━━━━━━━━━━━━━━━━━━━━━━╇━━━━━━━━━━━━━━━┩\n",
       "│ embedding (<span style=\"color: #0087ff; text-decoration-color: #0087ff\">Embedding</span>)           │ ?                      │   <span style=\"color: #00af00; text-decoration-color: #00af00\">0</span> (unbuilt) │\n",
       "├─────────────────────────────────┼────────────────────────┼───────────────┤\n",
       "│ conv1d (<span style=\"color: #0087ff; text-decoration-color: #0087ff\">Conv1D</span>)                 │ ?                      │   <span style=\"color: #00af00; text-decoration-color: #00af00\">0</span> (unbuilt) │\n",
       "├─────────────────────────────────┼────────────────────────┼───────────────┤\n",
       "│ max_pooling1d (<span style=\"color: #0087ff; text-decoration-color: #0087ff\">MaxPooling1D</span>)    │ ?                      │             <span style=\"color: #00af00; text-decoration-color: #00af00\">0</span> │\n",
       "├─────────────────────────────────┼────────────────────────┼───────────────┤\n",
       "│ dropout (<span style=\"color: #0087ff; text-decoration-color: #0087ff\">Dropout</span>)               │ ?                      │             <span style=\"color: #00af00; text-decoration-color: #00af00\">0</span> │\n",
       "├─────────────────────────────────┼────────────────────────┼───────────────┤\n",
       "│ lstm (<span style=\"color: #0087ff; text-decoration-color: #0087ff\">LSTM</span>)                     │ ?                      │   <span style=\"color: #00af00; text-decoration-color: #00af00\">0</span> (unbuilt) │\n",
       "├─────────────────────────────────┼────────────────────────┼───────────────┤\n",
       "│ dropout_1 (<span style=\"color: #0087ff; text-decoration-color: #0087ff\">Dropout</span>)             │ ?                      │             <span style=\"color: #00af00; text-decoration-color: #00af00\">0</span> │\n",
       "├─────────────────────────────────┼────────────────────────┼───────────────┤\n",
       "│ dense (<span style=\"color: #0087ff; text-decoration-color: #0087ff\">Dense</span>)                   │ ?                      │   <span style=\"color: #00af00; text-decoration-color: #00af00\">0</span> (unbuilt) │\n",
       "└─────────────────────────────────┴────────────────────────┴───────────────┘\n",
       "</pre>\n"
      ],
      "text/plain": [
       "┏━━━━━━━━━━━━━━━━━━━━━━━━━━━━━━━━━┳━━━━━━━━━━━━━━━━━━━━━━━━┳━━━━━━━━━━━━━━━┓\n",
       "┃\u001b[1m \u001b[0m\u001b[1mLayer (type)                   \u001b[0m\u001b[1m \u001b[0m┃\u001b[1m \u001b[0m\u001b[1mOutput Shape          \u001b[0m\u001b[1m \u001b[0m┃\u001b[1m \u001b[0m\u001b[1m      Param #\u001b[0m\u001b[1m \u001b[0m┃\n",
       "┡━━━━━━━━━━━━━━━━━━━━━━━━━━━━━━━━━╇━━━━━━━━━━━━━━━━━━━━━━━━╇━━━━━━━━━━━━━━━┩\n",
       "│ embedding (\u001b[38;5;33mEmbedding\u001b[0m)           │ ?                      │   \u001b[38;5;34m0\u001b[0m (unbuilt) │\n",
       "├─────────────────────────────────┼────────────────────────┼───────────────┤\n",
       "│ conv1d (\u001b[38;5;33mConv1D\u001b[0m)                 │ ?                      │   \u001b[38;5;34m0\u001b[0m (unbuilt) │\n",
       "├─────────────────────────────────┼────────────────────────┼───────────────┤\n",
       "│ max_pooling1d (\u001b[38;5;33mMaxPooling1D\u001b[0m)    │ ?                      │             \u001b[38;5;34m0\u001b[0m │\n",
       "├─────────────────────────────────┼────────────────────────┼───────────────┤\n",
       "│ dropout (\u001b[38;5;33mDropout\u001b[0m)               │ ?                      │             \u001b[38;5;34m0\u001b[0m │\n",
       "├─────────────────────────────────┼────────────────────────┼───────────────┤\n",
       "│ lstm (\u001b[38;5;33mLSTM\u001b[0m)                     │ ?                      │   \u001b[38;5;34m0\u001b[0m (unbuilt) │\n",
       "├─────────────────────────────────┼────────────────────────┼───────────────┤\n",
       "│ dropout_1 (\u001b[38;5;33mDropout\u001b[0m)             │ ?                      │             \u001b[38;5;34m0\u001b[0m │\n",
       "├─────────────────────────────────┼────────────────────────┼───────────────┤\n",
       "│ dense (\u001b[38;5;33mDense\u001b[0m)                   │ ?                      │   \u001b[38;5;34m0\u001b[0m (unbuilt) │\n",
       "└─────────────────────────────────┴────────────────────────┴───────────────┘\n"
      ]
     },
     "metadata": {},
     "output_type": "display_data"
    },
    {
     "data": {
      "text/html": [
       "<pre style=\"white-space:pre;overflow-x:auto;line-height:normal;font-family:Menlo,'DejaVu Sans Mono',consolas,'Courier New',monospace\"><span style=\"font-weight: bold\"> Total params: </span><span style=\"color: #00af00; text-decoration-color: #00af00\">0</span> (0.00 B)\n",
       "</pre>\n"
      ],
      "text/plain": [
       "\u001b[1m Total params: \u001b[0m\u001b[38;5;34m0\u001b[0m (0.00 B)\n"
      ]
     },
     "metadata": {},
     "output_type": "display_data"
    },
    {
     "data": {
      "text/html": [
       "<pre style=\"white-space:pre;overflow-x:auto;line-height:normal;font-family:Menlo,'DejaVu Sans Mono',consolas,'Courier New',monospace\"><span style=\"font-weight: bold\"> Trainable params: </span><span style=\"color: #00af00; text-decoration-color: #00af00\">0</span> (0.00 B)\n",
       "</pre>\n"
      ],
      "text/plain": [
       "\u001b[1m Trainable params: \u001b[0m\u001b[38;5;34m0\u001b[0m (0.00 B)\n"
      ]
     },
     "metadata": {},
     "output_type": "display_data"
    },
    {
     "data": {
      "text/html": [
       "<pre style=\"white-space:pre;overflow-x:auto;line-height:normal;font-family:Menlo,'DejaVu Sans Mono',consolas,'Courier New',monospace\"><span style=\"font-weight: bold\"> Non-trainable params: </span><span style=\"color: #00af00; text-decoration-color: #00af00\">0</span> (0.00 B)\n",
       "</pre>\n"
      ],
      "text/plain": [
       "\u001b[1m Non-trainable params: \u001b[0m\u001b[38;5;34m0\u001b[0m (0.00 B)\n"
      ]
     },
     "metadata": {},
     "output_type": "display_data"
    }
   ],
   "source": [
    "model = Sequential([\n",
    "    # Camada de Embedding: Transforma índices de palavras em vetores densos\n",
    "    Embedding(input_dim=vocab_size, output_dim=embedding_dim, input_length=max_length),\n",
    "\n",
    "    # Camada Convolucional (CNN): Extrai características locais\n",
    "    Conv1D(filters=128, kernel_size=5, activation='relu'),\n",
    "    MaxPooling1D(pool_size=2),\n",
    "    Dropout(0.5),\n",
    "\n",
    "    # Camada Recorrente (LSTM): Aprende padrões sequenciais\n",
    "    LSTM(64),\n",
    "    Dropout(0.5),\n",
    "\n",
    "    # Camada de Saída: Classifica nas categorias de serviço\n",
    "    Dense(num_classes, activation='softmax')\n",
    "])\n",
    "\n",
    "# Compilar o modelo\n",
    "model.compile(\n",
    "    optimizer='adam',\n",
    "    loss='sparse_categorical_crossentropy', # Usar para rótulos inteiros\n",
    "    metrics=['accuracy']\n",
    ")\n",
    "\n",
    "model.summary()"
   ]
  },
  {
   "cell_type": "markdown",
   "id": "e6a1cf9e",
   "metadata": {},
   "source": [
    "### 7. Treinamento do Modelo"
   ]
  },
  {
   "cell_type": "code",
   "execution_count": 10,
   "id": "1cb189aa",
   "metadata": {},
   "outputs": [
    {
     "name": "stdout",
     "output_type": "stream",
     "text": [
      "Epoch 1/30\n",
      "40/40 - 2s - 43ms/step - accuracy: 0.0594 - loss: 2.7781 - val_accuracy: 0.0753 - val_loss: 2.7708\n",
      "Epoch 2/30\n",
      "40/40 - 2s - 43ms/step - accuracy: 0.0594 - loss: 2.7781 - val_accuracy: 0.0753 - val_loss: 2.7708\n",
      "Epoch 2/30\n",
      "40/40 - 0s - 6ms/step - accuracy: 0.0766 - loss: 2.7694 - val_accuracy: 0.0968 - val_loss: 2.7580\n",
      "Epoch 3/30\n",
      "40/40 - 0s - 6ms/step - accuracy: 0.0766 - loss: 2.7694 - val_accuracy: 0.0968 - val_loss: 2.7580\n",
      "Epoch 3/30\n",
      "40/40 - 0s - 6ms/step - accuracy: 0.1547 - loss: 2.5817 - val_accuracy: 0.1935 - val_loss: 2.3644\n",
      "Epoch 4/30\n",
      "40/40 - 0s - 6ms/step - accuracy: 0.1547 - loss: 2.5817 - val_accuracy: 0.1935 - val_loss: 2.3644\n",
      "Epoch 4/30\n",
      "40/40 - 0s - 6ms/step - accuracy: 0.2547 - loss: 2.0608 - val_accuracy: 0.2581 - val_loss: 2.0541\n",
      "Epoch 5/30\n",
      "40/40 - 0s - 6ms/step - accuracy: 0.2547 - loss: 2.0608 - val_accuracy: 0.2581 - val_loss: 2.0541\n",
      "Epoch 5/30\n",
      "40/40 - 0s - 9ms/step - accuracy: 0.2922 - loss: 1.8477 - val_accuracy: 0.2258 - val_loss: 2.1661\n",
      "Epoch 6/30\n",
      "40/40 - 0s - 9ms/step - accuracy: 0.2922 - loss: 1.8477 - val_accuracy: 0.2258 - val_loss: 2.1661\n",
      "Epoch 6/30\n",
      "40/40 - 0s - 6ms/step - accuracy: 0.3500 - loss: 1.6903 - val_accuracy: 0.2903 - val_loss: 1.7960\n",
      "Epoch 7/30\n",
      "40/40 - 0s - 6ms/step - accuracy: 0.3500 - loss: 1.6903 - val_accuracy: 0.2903 - val_loss: 1.7960\n",
      "Epoch 7/30\n",
      "40/40 - 0s - 6ms/step - accuracy: 0.4141 - loss: 1.4616 - val_accuracy: 0.4086 - val_loss: 1.7139\n",
      "Epoch 8/30\n",
      "40/40 - 0s - 6ms/step - accuracy: 0.4141 - loss: 1.4616 - val_accuracy: 0.4086 - val_loss: 1.7139\n",
      "Epoch 8/30\n",
      "40/40 - 0s - 6ms/step - accuracy: 0.4719 - loss: 1.2838 - val_accuracy: 0.4301 - val_loss: 1.6557\n",
      "Epoch 9/30\n",
      "40/40 - 0s - 6ms/step - accuracy: 0.4719 - loss: 1.2838 - val_accuracy: 0.4301 - val_loss: 1.6557\n",
      "Epoch 9/30\n",
      "40/40 - 0s - 6ms/step - accuracy: 0.5203 - loss: 1.1639 - val_accuracy: 0.3978 - val_loss: 1.7191\n",
      "Epoch 10/30\n",
      "40/40 - 0s - 6ms/step - accuracy: 0.5203 - loss: 1.1639 - val_accuracy: 0.3978 - val_loss: 1.7191\n",
      "Epoch 10/30\n",
      "40/40 - 0s - 6ms/step - accuracy: 0.5469 - loss: 1.0982 - val_accuracy: 0.3763 - val_loss: 1.7222\n",
      "Epoch 11/30\n",
      "40/40 - 0s - 6ms/step - accuracy: 0.5469 - loss: 1.0982 - val_accuracy: 0.3763 - val_loss: 1.7222\n",
      "Epoch 11/30\n",
      "40/40 - 0s - 7ms/step - accuracy: 0.5938 - loss: 0.9951 - val_accuracy: 0.4624 - val_loss: 1.6011\n",
      "Epoch 12/30\n",
      "40/40 - 0s - 7ms/step - accuracy: 0.5938 - loss: 0.9951 - val_accuracy: 0.4624 - val_loss: 1.6011\n",
      "Epoch 12/30\n",
      "40/40 - 0s - 7ms/step - accuracy: 0.6484 - loss: 0.8439 - val_accuracy: 0.5161 - val_loss: 1.5501\n",
      "Epoch 13/30\n",
      "40/40 - 0s - 7ms/step - accuracy: 0.6484 - loss: 0.8439 - val_accuracy: 0.5161 - val_loss: 1.5501\n",
      "Epoch 13/30\n",
      "40/40 - 0s - 7ms/step - accuracy: 0.7188 - loss: 0.7114 - val_accuracy: 0.4946 - val_loss: 1.6634\n",
      "Epoch 14/30\n",
      "40/40 - 0s - 7ms/step - accuracy: 0.7188 - loss: 0.7114 - val_accuracy: 0.4946 - val_loss: 1.6634\n",
      "Epoch 14/30\n",
      "40/40 - 0s - 7ms/step - accuracy: 0.6922 - loss: 0.7777 - val_accuracy: 0.4409 - val_loss: 1.8530\n",
      "Epoch 15/30\n",
      "40/40 - 0s - 7ms/step - accuracy: 0.6922 - loss: 0.7777 - val_accuracy: 0.4409 - val_loss: 1.8530\n",
      "Epoch 15/30\n",
      "40/40 - 0s - 7ms/step - accuracy: 0.7281 - loss: 0.7008 - val_accuracy: 0.4731 - val_loss: 1.7627\n",
      "Epoch 16/30\n",
      "40/40 - 0s - 7ms/step - accuracy: 0.7281 - loss: 0.7008 - val_accuracy: 0.4731 - val_loss: 1.7627\n",
      "Epoch 16/30\n",
      "40/40 - 0s - 7ms/step - accuracy: 0.7516 - loss: 0.6441 - val_accuracy: 0.5484 - val_loss: 1.5779\n",
      "Epoch 17/30\n",
      "40/40 - 0s - 7ms/step - accuracy: 0.7516 - loss: 0.6441 - val_accuracy: 0.5484 - val_loss: 1.5779\n",
      "Epoch 17/30\n",
      "40/40 - 0s - 7ms/step - accuracy: 0.7781 - loss: 0.5373 - val_accuracy: 0.5161 - val_loss: 1.6179\n",
      "Epoch 18/30\n",
      "40/40 - 0s - 7ms/step - accuracy: 0.7781 - loss: 0.5373 - val_accuracy: 0.5161 - val_loss: 1.6179\n",
      "Epoch 18/30\n",
      "40/40 - 0s - 6ms/step - accuracy: 0.7953 - loss: 0.5389 - val_accuracy: 0.5806 - val_loss: 1.5690\n",
      "Epoch 19/30\n",
      "40/40 - 0s - 6ms/step - accuracy: 0.7953 - loss: 0.5389 - val_accuracy: 0.5806 - val_loss: 1.5690\n",
      "Epoch 19/30\n",
      "40/40 - 0s - 6ms/step - accuracy: 0.8031 - loss: 0.5449 - val_accuracy: 0.5054 - val_loss: 1.7974\n",
      "Epoch 20/30\n",
      "40/40 - 0s - 6ms/step - accuracy: 0.8031 - loss: 0.5449 - val_accuracy: 0.5054 - val_loss: 1.7974\n",
      "Epoch 20/30\n",
      "40/40 - 0s - 6ms/step - accuracy: 0.8203 - loss: 0.4712 - val_accuracy: 0.5591 - val_loss: 1.7192\n",
      "Epoch 21/30\n",
      "40/40 - 0s - 6ms/step - accuracy: 0.8203 - loss: 0.4712 - val_accuracy: 0.5591 - val_loss: 1.7192\n",
      "Epoch 21/30\n",
      "40/40 - 0s - 6ms/step - accuracy: 0.8438 - loss: 0.4127 - val_accuracy: 0.5484 - val_loss: 1.7220\n",
      "Epoch 22/30\n",
      "40/40 - 0s - 6ms/step - accuracy: 0.8438 - loss: 0.4127 - val_accuracy: 0.5484 - val_loss: 1.7220\n",
      "Epoch 22/30\n",
      "40/40 - 0s - 6ms/step - accuracy: 0.8156 - loss: 0.4704 - val_accuracy: 0.5591 - val_loss: 1.7063\n",
      "Epoch 23/30\n",
      "40/40 - 0s - 6ms/step - accuracy: 0.8156 - loss: 0.4704 - val_accuracy: 0.5591 - val_loss: 1.7063\n",
      "Epoch 23/30\n",
      "40/40 - 0s - 8ms/step - accuracy: 0.8406 - loss: 0.4015 - val_accuracy: 0.5914 - val_loss: 1.6618\n",
      "Epoch 24/30\n",
      "40/40 - 0s - 8ms/step - accuracy: 0.8406 - loss: 0.4015 - val_accuracy: 0.5914 - val_loss: 1.6618\n",
      "Epoch 24/30\n",
      "40/40 - 0s - 5ms/step - accuracy: 0.8719 - loss: 0.3467 - val_accuracy: 0.6022 - val_loss: 1.6786\n",
      "Epoch 25/30\n",
      "40/40 - 0s - 5ms/step - accuracy: 0.8719 - loss: 0.3467 - val_accuracy: 0.6022 - val_loss: 1.6786\n",
      "Epoch 25/30\n",
      "40/40 - 0s - 5ms/step - accuracy: 0.8797 - loss: 0.3372 - val_accuracy: 0.6022 - val_loss: 1.7427\n",
      "Epoch 26/30\n",
      "40/40 - 0s - 5ms/step - accuracy: 0.8797 - loss: 0.3372 - val_accuracy: 0.6022 - val_loss: 1.7427\n",
      "Epoch 26/30\n",
      "40/40 - 0s - 5ms/step - accuracy: 0.8594 - loss: 0.3959 - val_accuracy: 0.5806 - val_loss: 1.5871\n",
      "Epoch 27/30\n",
      "40/40 - 0s - 5ms/step - accuracy: 0.8594 - loss: 0.3959 - val_accuracy: 0.5806 - val_loss: 1.5871\n",
      "Epoch 27/30\n",
      "40/40 - 0s - 6ms/step - accuracy: 0.9000 - loss: 0.2927 - val_accuracy: 0.5914 - val_loss: 1.7205\n",
      "Epoch 28/30\n",
      "40/40 - 0s - 6ms/step - accuracy: 0.9000 - loss: 0.2927 - val_accuracy: 0.5914 - val_loss: 1.7205\n",
      "Epoch 28/30\n",
      "40/40 - 0s - 6ms/step - accuracy: 0.9203 - loss: 0.2635 - val_accuracy: 0.5591 - val_loss: 1.6905\n",
      "Epoch 29/30\n",
      "40/40 - 0s - 6ms/step - accuracy: 0.9203 - loss: 0.2635 - val_accuracy: 0.5591 - val_loss: 1.6905\n",
      "Epoch 29/30\n",
      "40/40 - 0s - 6ms/step - accuracy: 0.9250 - loss: 0.2782 - val_accuracy: 0.5699 - val_loss: 1.7254\n",
      "Epoch 30/30\n",
      "40/40 - 0s - 6ms/step - accuracy: 0.9250 - loss: 0.2782 - val_accuracy: 0.5699 - val_loss: 1.7254\n",
      "Epoch 30/30\n",
      "40/40 - 0s - 6ms/step - accuracy: 0.9328 - loss: 0.2512 - val_accuracy: 0.5699 - val_loss: 1.8299\n",
      "40/40 - 0s - 6ms/step - accuracy: 0.9328 - loss: 0.2512 - val_accuracy: 0.5699 - val_loss: 1.8299\n"
     ]
    }
   ],
   "source": [
    "history = model.fit(\n",
    "    X_train_padded,\n",
    "    y_train_encoded,\n",
    "    epochs=30,\n",
    "    validation_data=(X_test_padded, y_test_encoded),\n",
    "    batch_size=16,\n",
    "    verbose=2\n",
    ")"
   ]
  },
  {
   "cell_type": "markdown",
   "id": "8846be5c",
   "metadata": {},
   "source": [
    "### 8. Avaliação do Modelo"
   ]
  },
  {
   "cell_type": "code",
   "execution_count": 11,
   "id": "dc2770dc",
   "metadata": {},
   "outputs": [
    {
     "name": "stdout",
     "output_type": "stream",
     "text": [
      "\n",
      "Acurácia no conjunto de teste: 0.5699\n"
     ]
    }
   ],
   "source": [
    "loss, accuracy = model.evaluate(X_test_padded, y_test_encoded, verbose=0)\n",
    "print(f\"\\nAcurácia no conjunto de teste: {accuracy:.4f}\")"
   ]
  },
  {
   "cell_type": "markdown",
   "id": "778d1085",
   "metadata": {},
   "source": [
    "### 9. Função para Predição\n",
    "\n",
    "Criamos uma função auxiliar para encapsular todo o processo de pré-processamento e predição para uma nova frase."
   ]
  },
  {
   "cell_type": "code",
   "execution_count": 12,
   "id": "af2e0c4b",
   "metadata": {},
   "outputs": [],
   "source": [
    "def predict_service(text):\n",
    "    # Pré-processar o texto de entrada\n",
    "    sequence = tokenizer.texts_to_sequences([text])\n",
    "    padded_sequence = pad_sequences(sequence, maxlen=max_length, padding='post', truncating='post')\n",
    "\n",
    "    # Fazer a predição\n",
    "    prediction = model.predict(padded_sequence)\n",
    "    predicted_class_index = np.argmax(prediction)\n",
    "\n",
    "    # Decodificar o resultado para o nome do serviço\n",
    "    predicted_service_name = label_encoder.inverse_transform([predicted_class_index])\n",
    "\n",
    "    return predicted_service_name[0]"
   ]
  },
  {
   "cell_type": "markdown",
   "id": "b5a56431",
   "metadata": {},
   "source": [
    "### 10. Teste do Modelo com Novas Frases"
   ]
  },
  {
   "cell_type": "code",
   "execution_count": 13,
   "id": "b2522cac",
   "metadata": {},
   "outputs": [
    {
     "name": "stdout",
     "output_type": "stream",
     "text": [
      "\n",
      "--- Testando o modelo com novas frases ---\n",
      "\u001b[1m1/1\u001b[0m \u001b[32m━━━━━━━━━━━━━━━━━━━━\u001b[0m\u001b[37m\u001b[0m \u001b[1m0s\u001b[0m 111ms/step\n",
      "\u001b[1m1/1\u001b[0m \u001b[32m━━━━━━━━━━━━━━━━━━━━\u001b[0m\u001b[37m\u001b[0m \u001b[1m0s\u001b[0m 111ms/step\n",
      "Frase: 'esqueci a senha do meu cartao'\n",
      "Serviço Previsto: 'Esqueceu senha / Troca de senha'\n",
      "\n",
      "\u001b[1m1/1\u001b[0m \u001b[32m━━━━━━━━━━━━━━━━━━━━\u001b[0m\u001b[37m\u001b[0m \u001b[1m0s\u001b[0m 23ms/step\n",
      "Frase: 'esqueci a senha do meu cartao'\n",
      "Serviço Previsto: 'Esqueceu senha / Troca de senha'\n",
      "\n",
      "\u001b[1m1/1\u001b[0m \u001b[32m━━━━━━━━━━━━━━━━━━━━\u001b[0m\u001b[37m\u001b[0m \u001b[1m0s\u001b[0m 23ms/step\n",
      "Frase: 'onde está meu novo cartão?'\n",
      "Serviço Previsto: 'Status de Entrega do Cartão'\n",
      "\n",
      "\u001b[1m1/1\u001b[0m \u001b[32m━━━━━━━━━━━━━━━━━━━━\u001b[0m\u001b[37m\u001b[0m \u001b[1m0s\u001b[0m 24ms/step\n",
      "Frase: 'onde está meu novo cartão?'\n",
      "Serviço Previsto: 'Status de Entrega do Cartão'\n",
      "\n",
      "\u001b[1m1/1\u001b[0m \u001b[32m━━━━━━━━━━━━━━━━━━━━\u001b[0m\u001b[37m\u001b[0m \u001b[1m0s\u001b[0m 24ms/step\n",
      "Frase: 'quero pagar a fatura'\n",
      "Serviço Previsto: 'Segunda via de Fatura'\n",
      "\n",
      "Frase: 'quero pagar a fatura'\n",
      "Serviço Previsto: 'Segunda via de Fatura'\n",
      "\n"
     ]
    }
   ],
   "source": [
    "# Testar com novas frases\n",
    "print(\"\\n--- Testando o modelo com novas frases ---\")\n",
    "test_phrase_1 = \"esqueci a senha do meu cartao\"\n",
    "predicted_service_1 = predict_service(test_phrase_1)\n",
    "print(f\"Frase: '{test_phrase_1}'\")\n",
    "print(f\"Serviço Previsto: '{predicted_service_1}'\\n\")\n",
    "\n",
    "test_phrase_2 = \"onde está meu novo cartão?\"\n",
    "predicted_service_2 = predict_service(test_phrase_2)\n",
    "print(f\"Frase: '{test_phrase_2}'\")\n",
    "print(f\"Serviço Previsto: '{predicted_service_2}'\\n\")\n",
    "\n",
    "test_phrase_3 = \"quero pagar a fatura\"\n",
    "predicted_service_3 = predict_service(test_phrase_3)\n",
    "print(f\"Frase: '{test_phrase_3}'\")\n",
    "print(f\"Serviço Previsto: '{predicted_service_3}'\\n\")"
   ]
  },
  {
   "cell_type": "code",
   "execution_count": 14,
   "id": "6728daa1",
   "metadata": {},
   "outputs": [
    {
     "name": "stderr",
     "output_type": "stream",
     "text": [
      "WARNING:absl:You are saving your model as an HDF5 file via `model.save()` or `keras.saving.save_model(model)`. This file format is considered legacy. We recommend using instead the native Keras format, e.g. `model.save('my_model.keras')` or `keras.saving.save_model(model, 'my_model.keras')`. \n"
     ]
    }
   ],
   "source": [
    "# Save the model\n",
    "model.save('service_intent_model_2.h5')"
   ]
  },
  {
   "cell_type": "markdown",
   "id": "9cc9a57b",
   "metadata": {},
   "source": [
    "### 11. Geração de Dados Sintéticos (Opcional)\n",
    "\n",
    "Para aumentar a robustez do modelo, podemos gerar dados sintéticos. A célula abaixo cria um novo arquivo CSV com 100 exemplos de frases para cada categoria de serviço, totalizando 1600 novas amostras.\n",
    "\n",
    "**Atenção**: Execute esta célula apenas uma vez para criar o arquivo."
   ]
  },
  {
   "cell_type": "code",
   "execution_count": null,
   "id": "ec93aed5",
   "metadata": {},
   "outputs": [],
   "source": [
    "import pandas as pd\n",
    "import random\n",
    "import os\n",
    "\n",
    "# Dicionário com os serviços e templates de frases\n",
    "services_data = {\n",
    "    \"Consulta Limite / Vencimento do cartão / Melhor dia de compra\": [\n",
    "        \"qual o limite do meu cartão?\", \"quanto ainda tenho de limite?\", \"meu limite disponível\",\n",
    "        \"quando vence minha fatura?\", \"qual a data de vencimento?\", \"vencimento da fatura\",\n",
    "        \"melhor dia para comprar\", \"qual o melhor dia de compra?\", \"dia bom para usar o cartão\"\n",
    "    ],\n",
    "    \"Segunda via de boleto de acordo\": [\n",
    "        \"preciso da segunda via do meu acordo\", \"gerar boleto da negociação\", \"não recebi o boleto do acordo\",\n",
    "        \"enviar novamente o boleto do meu parcelamento\", \"código de barras do acordo\", \"pagar meu acordo\"\n",
    "    ],\n",
    "    \"Segunda via de Fatura\": [\n",
    "        \"quero a segunda via da minha fatura\", \"me envia o boleto da fatura, por favor\", \"não achei minha fatura\",\n",
    "        \"preciso do código de barras para pagar a fatura\", \"gerar fatura em PDF\", \"fatura detalhada\"\n",
    "    ],\n",
    "    \"Status de Entrega do Cartão\": [\n",
    "        \"gostaria de saber onde está meu cartão\", \"qual o status da entrega do meu cartão?\", \"meu cartão já foi enviado?\",\n",
    "        \"rastrear entrega do cartão\", \"previsão de chegada do cartão\", \"ainda não recebi meu cartão\"\n",
    "    ],\n",
    "    \"Status de cartão\": [\n",
    "        \"meu cartão foi bloqueado?\", \"qual o status do meu cartão?\", \"o cartão está ativo para uso?\",\n",
    "        \"não consigo usar meu cartão\", \"minha compra foi recusada\", \"verificar status do cartão\"\n",
    "    ],\n",
    "    \"Solicitação de aumento de limite\": [\n",
    "        \"gostaria de pedir um aumento de limite\", \"como faço para ter mais limite?\", \"solicitar mais crédito\",\n",
    "        \"aumentar o limite do meu cartão de crédito\", \"meu limite é baixo, posso aumentar?\", \"quero um limite maior\"\n",
    "    ],\n",
    "    \"Cancelamento de cartão\": [\n",
    "        \"quero cancelar meu cartão\", \"como faço para cancelar o cartão?\", \"não quero mais ter este cartão\",\n",
    "        \"encerrar minha conta do cartão\", \"cancelar o cartão de crédito\", \"desativar meu cartão permanentemente\"\n",
    "    ],\n",
    "    \"Telefones de seguradoras\": [\n",
    "        \"qual o telefone do seguro do cartão?\", \"preciso do contato da seguradora\", \"como falo com o seguro?\",\n",
    "        \"número para acionar o seguro\", \"cancelar seguro do cartão\", \"informações sobre a apólice de seguro\"\n",
    "    ],\n",
    "    \"Desbloqueio de Cartão\": [\n",
    "        \"recebi meu cartão e quero desbloquear\", \"como desbloquear o cartão novo?\", \"desbloquear meu cartão agora\",\n",
    "        \"ativar o cartão para compras\", \"meu cartão chegou, como ativo?\", \"quero usar meu cartão novo\"\n",
    "    ],\n",
    "    \"Esqueceu senha / Troca de senha\": [\n",
    "        \"esqueci a senha do meu cartão, e agora?\", \"preciso cadastrar uma nova senha\", \"como altero a senha do cartão?\",\n",
    "        \"não lembro minha senha\", \"quero trocar a senha\", \"ajuda para recuperar a senha\"\n",
    "    ],\n",
    "    \"Perda e roubo\": [\n",
    "        \"perdi meu cartão, preciso bloquear\", \"fui roubado, levem meu cartão\", \"bloquear cartão por perda\",\n",
    "        \"meu cartão foi furtado\", \"comunicar roubo de cartão\", \"extraviei meu cartão, o que fazer?\"\n",
    "    ],\n",
    "    \"Consulta do Saldo\": [\n",
    "        \"qual o saldo da minha conta?\", \"gostaria de ver meu saldo\", \"quanto dinheiro eu tenho?\",\n",
    "        \"consultar o extrato da conta\", \"verificar meu saldo atual\", \"meu saldo por favor\"\n",
    "    ],\n",
    "    \"Pagamento de contas\": [\n",
    "        \"quero pagar uma conta de consumo\", \"pagar um boleto com a câmera\", \"agendar pagamento de conta\",\n",
    "        \"realizar pagamento de boleto\", \"como pagar contas pelo app?\", \"pagar fatura de água\"\n",
    "    ],\n",
    "    \"Reclamações\": [\n",
    "        \"gostaria de fazer uma reclamação\", \"quero registrar uma queixa sobre o atendimento\", \"não estou satisfeito com o serviço\",\n",
    "        \"abrir um protocolo de reclamação\", \"reclamar sobre uma cobrança indevida\", \"tenho uma queixa\"\n",
    "    ],\n",
    "    \"Atendimento humano\": [\n",
    "        \"preciso falar com um atendente\", \"quero ser transferido para uma pessoa\", \"falar com um especialista\",\n",
    "        \"me ajuda a falar com um humano\", \"não quero falar com robô\", \"atendimento com uma pessoa, por favor\"\n",
    "    ],\n",
    "    \"Token de proposta\": [\n",
    "        \"qual o token da minha proposta?\", \"não recebi o código do meu cartão\", \"informar token para finalizar a proposta\",\n",
    "        \"cadê o número do token?\", \"preciso do token para continuar\", \"validar proposta com token\"\n",
    "    ]\n",
    "}\n",
    "\n",
    "# Gerar os dados\n",
    "generated_data = []\n",
    "for service, templates in services_data.items():\n",
    "    for _ in range(100):\n",
    "        intent = random.choice(templates)\n",
    "        # Adicionar pequenas variações\n",
    "        if random.random() > 0.7:\n",
    "            intent = intent.replace(\"?\", \"\").strip()\n",
    "        if random.random() > 0.8:\n",
    "            intent = \"por favor, \" + intent\n",
    "        if random.random() > 0.9:\n",
    "            intent = intent.upper()\n",
    "            \n",
    "        generated_data.append({\"intent\": intent, \"service_name\": service})\n",
    "\n",
    "# Criar DataFrame\n",
    "df_generated = pd.DataFrame(generated_data)\n",
    "\n",
    "# Caminho para salvar o arquivo\n",
    "output_path = 'intents_generated.csv'\n",
    "\n",
    "# Criar o diretório se não existir\n",
    "os.makedirs(os.path.dirname(output_path), exist_ok=True)\n",
    "\n",
    "# Salvar em CSV\n",
    "df_generated.to_csv(output_path, sep=';', index=False, encoding='utf-8-sig')\n",
    "\n",
    "print(f\"Arquivo '{output_path}' criado com {len(df_generated)} linhas.\")\n",
    "df_generated.head()"
   ]
  }
 ],
 "metadata": {
  "kernelspec": {
   "display_name": "venv",
   "language": "python",
   "name": "python3"
  },
  "language_info": {
   "codemirror_mode": {
    "name": "ipython",
    "version": 3
   },
   "file_extension": ".py",
   "mimetype": "text/x-python",
   "name": "python",
   "nbconvert_exporter": "python",
   "pygments_lexer": "ipython3",
   "version": "3.11.14"
  }
 },
 "nbformat": 4,
 "nbformat_minor": 5
}
